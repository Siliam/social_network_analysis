{
 "cells": [
  {
   "cell_type": "code",
   "execution_count": 1,
   "id": "26e60daa",
   "metadata": {},
   "outputs": [],
   "source": [
    "import datasets"
   ]
  },
  {
   "cell_type": "markdown",
   "id": "0edf2c67",
   "metadata": {},
   "source": [
    "# Fake News English"
   ]
  },
  {
   "cell_type": "markdown",
   "id": "cee6adf1",
   "metadata": {},
   "source": [
    "This dataset contains URLs of news articles classified as either fake or satire. The articles classified as fake also have the URL of a rebutting article."
   ]
  },
  {
   "cell_type": "markdown",
   "id": "aa7de7d4",
   "metadata": {},
   "source": [
    "Paper: https://dl.acm.org/doi/10.1145/3201064.3201100"
   ]
  },
  {
   "cell_type": "markdown",
   "id": "c3cd2f6d",
   "metadata": {},
   "source": [
    "#### Data Fields\n",
    "- article_number: An integer used as an index for each row\n",
    "- url_of_article: A string which contains URL of an article to be assessed and classified as either Fake or Satire\n",
    "- fake_or_satire: A classlabel for the above variable which can take two values- Fake (1) and Satire (0)\n",
    "- url_of_rebutting_article: A string which contains a URL of the article used to refute the article in question (present - in url_of_article)\n"
   ]
  },
  {
   "cell_type": "code",
   "execution_count": 2,
   "id": "4d2f8902",
   "metadata": {},
   "outputs": [
    {
     "data": {
      "application/vnd.jupyter.widget-view+json": {
       "model_id": "286afc814afe46968d7ac2b3d0d010bf",
       "version_major": 2,
       "version_minor": 0
      },
      "text/plain": [
       "Downloading readme:   0%|          | 0.00/5.01k [00:00<?, ?B/s]"
      ]
     },
     "metadata": {},
     "output_type": "display_data"
    },
    {
     "data": {
      "application/vnd.jupyter.widget-view+json": {
       "model_id": "82b67000f1eb4d74b89505749fc0d8ee",
       "version_major": 2,
       "version_minor": 0
      },
      "text/plain": [
       "Downloading data:   0%|          | 0.00/43.1k [00:00<?, ?B/s]"
      ]
     },
     "metadata": {},
     "output_type": "display_data"
    },
    {
     "data": {
      "application/vnd.jupyter.widget-view+json": {
       "model_id": "5a4c412224b94eabbfeca97b7f046dbb",
       "version_major": 2,
       "version_minor": 0
      },
      "text/plain": [
       "Generating train split:   0%|          | 0/492 [00:00<?, ? examples/s]"
      ]
     },
     "metadata": {},
     "output_type": "display_data"
    }
   ],
   "source": [
    "dataset_1 = datasets.load_dataset(\"community-datasets/fake_news_english\")"
   ]
  },
  {
   "cell_type": "code",
   "execution_count": 5,
   "id": "10df1c89",
   "metadata": {
    "scrolled": true
   },
   "outputs": [
    {
     "data": {
      "text/plain": [
       "DatasetDict({\n",
       "    train: Dataset({\n",
       "        features: ['article_number', 'url_of_article', 'fake_or_satire', 'url_of_rebutting_article'],\n",
       "        num_rows: 492\n",
       "    })\n",
       "})"
      ]
     },
     "execution_count": 5,
     "metadata": {},
     "output_type": "execute_result"
    }
   ],
   "source": [
    "dataset_1"
   ]
  },
  {
   "cell_type": "code",
   "execution_count": 6,
   "id": "45182494",
   "metadata": {
    "scrolled": false
   },
   "outputs": [
    {
     "data": {
      "text/plain": [
       "{'article_number': 375,\n",
       " 'url_of_article': 'http://www.redflagnews.com/headlines-2016/cdc-proposes-rule-to-apprehend-and-detain-anyone-anywhere-at-any-time-for-any-duration-without-due-process-or-right-of-appeal-and-administer-forced-vaccinations',\n",
       " 'fake_or_satire': 1,\n",
       " 'url_of_rebutting_article': 'http://www.snopes.com/cdc-forced-vaccinations/'}"
      ]
     },
     "execution_count": 6,
     "metadata": {},
     "output_type": "execute_result"
    }
   ],
   "source": [
    "dataset_1['train'][0]"
   ]
  },
  {
   "cell_type": "markdown",
   "id": "7590568d",
   "metadata": {},
   "source": [
    "# Fake News Graph Classification dataset"
   ]
  },
  {
   "cell_type": "markdown",
   "id": "1ef95546",
   "metadata": {},
   "source": [
    "The dataset is composed of two sets of tree-structured fake/real news propagation graphs extracted from Twitter. Different from most of the benchmark datasets for the graph classification task, the graphs in this dataset are directed tree-structured graphs where the root node represents the news, the leaf nodes are Twitter users who retweeted the root news. Besides, the node features are encoded user historical tweets using different pretrained language models:\n",
    "- bert: the 768-dimensional node feature composed of Twitter user historical tweets encoded by the bert-as-service\n",
    "- content: the 310-dimensional node feature composed of a 300-dimensional “spacy” vector plus a 10-dimensional “profile” vector\n",
    "- profile: the 10-dimensional node feature composed of ten Twitter user profile attributes.\n",
    "- spacy: the 300-dimensional node feature composed of Twitter user historical tweets encoded by the spaCy word2vec encoder."
   ]
  },
  {
   "cell_type": "markdown",
   "id": "25319b21",
   "metadata": {},
   "source": [
    "Reference: <https://github.com/safe-graph/GNN-FakeNews>"
   ]
  },
  {
   "cell_type": "markdown",
   "id": "cfad1b8c",
   "metadata": {},
   "source": [
    "#### Statistics:\n",
    "\n",
    "- Politifact:\n",
    "    - Graphs: 314\n",
    "    - Nodes: 41,054\n",
    "    - Edges: 40,740\n",
    "    - Classes:\n",
    "        - Fake: 157\n",
    "        - Real: 157\n",
    "    - Node feature size:\n",
    "        - bert: 768\n",
    "        - content: 310\n",
    "        profile: 10\n",
    "        spacy: 300\n",
    "- Gossipcop:\n",
    "    Graphs: 5,464\n",
    "    Nodes: 314,262\n",
    "    Edges: 308,798\n",
    "    Classes:\n",
    "        Fake: 2,732\n",
    "        Real: 2,732\n",
    "    Node feature size:\n",
    "        bert: 768\n",
    "        content: 310\n",
    "        profile: 10\n",
    "        spacy: 300"
   ]
  },
  {
   "cell_type": "code",
   "execution_count": 12,
   "id": "650eafa4",
   "metadata": {},
   "outputs": [],
   "source": [
    "# import torch\n",
    "# torch.__version__\n",
    "# ! nvcc --version\n",
    "# ! pip install  dgl -f https://data.dgl.ai/wheels/cu121/repo.html"
   ]
  },
  {
   "cell_type": "code",
   "execution_count": 13,
   "id": "b0baf295",
   "metadata": {},
   "outputs": [],
   "source": []
  },
  {
   "cell_type": "code",
   "execution_count": 14,
   "id": "2b21c450",
   "metadata": {},
   "outputs": [],
   "source": []
  },
  {
   "cell_type": "code",
   "execution_count": 16,
   "id": "c97cb0c9",
   "metadata": {},
   "outputs": [],
   "source": [
    "from dgl.data import FakeNewsDataset"
   ]
  },
  {
   "cell_type": "code",
   "execution_count": 17,
   "id": "0bd211b4",
   "metadata": {},
   "outputs": [
    {
     "name": "stdout",
     "output_type": "stream",
     "text": [
      "Downloading C:\\Users\\harri\\.dgl\\gossipcop.zip from https://data.dgl.ai/dataset/FakeNewsGOS.zip...\n"
     ]
    },
    {
     "data": {
      "application/vnd.jupyter.widget-view+json": {
       "model_id": "4e16a228f03d40a0a8e82b44fbb0f43c",
       "version_major": 2,
       "version_minor": 0
      },
      "text/plain": [
       "C:\\Users\\harri\\.dgl\\gossipcop.zip:   0%|          | 0.00/1.40G [00:00<?, ?B/s]"
      ]
     },
     "metadata": {},
     "output_type": "display_data"
    },
    {
     "name": "stdout",
     "output_type": "stream",
     "text": [
      "Extracting file to C:\\Users\\harri\\.dgl\\gossipcop_0df94731\n"
     ]
    }
   ],
   "source": [
    "dataset = FakeNewsDataset('gossipcop', 'bert')"
   ]
  },
  {
   "cell_type": "code",
   "execution_count": 18,
   "id": "ee7ccad1",
   "metadata": {},
   "outputs": [],
   "source": [
    "graph, label = dataset[0]\n",
    "num_classes = dataset.num_classes\n",
    "feat = dataset.feature\n",
    "labels = dataset.labels"
   ]
  },
  {
   "cell_type": "code",
   "execution_count": 19,
   "id": "3d025d89",
   "metadata": {},
   "outputs": [
    {
     "data": {
      "text/plain": [
       "tensor([0., 0., 0.,  ..., 1., 1., 1.], dtype=torch.float64)"
      ]
     },
     "execution_count": 19,
     "metadata": {},
     "output_type": "execute_result"
    }
   ],
   "source": [
    "labels"
   ]
  },
  {
   "cell_type": "code",
   "execution_count": null,
   "id": "b3e53cf8",
   "metadata": {},
   "outputs": [],
   "source": []
  }
 ],
 "metadata": {
  "kernelspec": {
   "display_name": "Python 3 (ipykernel)",
   "language": "python",
   "name": "python3"
  },
  "language_info": {
   "codemirror_mode": {
    "name": "ipython",
    "version": 3
   },
   "file_extension": ".py",
   "mimetype": "text/x-python",
   "name": "python",
   "nbconvert_exporter": "python",
   "pygments_lexer": "ipython3",
   "version": "3.11.5"
  }
 },
 "nbformat": 4,
 "nbformat_minor": 5
}
