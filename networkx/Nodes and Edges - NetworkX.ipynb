{
 "cells": [
  {
   "cell_type": "code",
   "execution_count": 6,
   "id": "b33fec39",
   "metadata": {},
   "outputs": [
    {
     "name": "stdout",
     "output_type": "stream",
     "text": [
      "\r\n",
      "\u001b[1m[\u001b[0m\u001b[34;49mnotice\u001b[0m\u001b[1;39;49m]\u001b[0m\u001b[39;49m A new release of pip available: \u001b[0m\u001b[31;49m22.3.1\u001b[0m\u001b[39;49m -> \u001b[0m\u001b[32;49m23.1.2\u001b[0m\r\n",
      "\u001b[1m[\u001b[0m\u001b[34;49mnotice\u001b[0m\u001b[1;39;49m]\u001b[0m\u001b[39;49m To update, run: \u001b[0m\u001b[32;49mpython3 -m pip install --upgrade pip\u001b[0m\r\n"
     ]
    }
   ],
   "source": [
    "# ! pip install pyvis\n",
    "! pip install -q netgraph"
   ]
  },
  {
   "cell_type": "code",
   "execution_count": 7,
   "id": "acfdedcc",
   "metadata": {},
   "outputs": [
    {
     "name": "stdout",
     "output_type": "stream",
     "text": [
      "Defaulting to user installation because normal site-packages is not writeable\n",
      "Requirement already satisfied: pip in /home/ismail/.local/lib/python3.10/site-packages (22.3.1)\n",
      "Collecting pip\n",
      "  Downloading pip-23.1.2-py3-none-any.whl (2.1 MB)\n",
      "\u001b[2K     \u001b[38;2;114;156;31m━━━━━━━━━━━━━━━━━━━━━━━━━━━━━━━━━━━━━━━━\u001b[0m \u001b[32m2.1/2.1 MB\u001b[0m \u001b[31m5.6 MB/s\u001b[0m eta \u001b[36m0:00:00\u001b[0mm eta \u001b[36m0:00:01\u001b[0m[36m0:00:01\u001b[0m\n",
      "\u001b[?25hInstalling collected packages: pip\n",
      "  Attempting uninstall: pip\n",
      "    Found existing installation: pip 22.3.1\n",
      "    Uninstalling pip-22.3.1:\n",
      "      Successfully uninstalled pip-22.3.1\n",
      "Successfully installed pip-23.1.2\n"
     ]
    }
   ],
   "source": [
    "! python3 -m pip install --upgrade pip"
   ]
  },
  {
   "cell_type": "code",
   "execution_count": 96,
   "id": "fbec91c4",
   "metadata": {},
   "outputs": [],
   "source": [
    "import networkx as nx\n",
    "import matplotlib.pyplot as plt\n",
    "from pyvis.network import Network\n",
    "from netgraph import Graph\n",
    "\n",
    "import numpy as np\n",
    "import pandas as pd"
   ]
  },
  {
   "cell_type": "markdown",
   "id": "ab8ba68e",
   "metadata": {},
   "source": [
    "# Undirected Graphs"
   ]
  },
  {
   "cell_type": "code",
   "execution_count": 9,
   "id": "d72c4757",
   "metadata": {},
   "outputs": [
    {
     "data": {
      "image/png": "[encoded data removed]",
      "text/plain": [
       "<Figure size 432x288 with 1 Axes>"
      ]
     },
     "metadata": {},
     "output_type": "display_data"
    }
   ],
   "source": [
    "G = nx.Graph()\n",
    "G.add_edge('A', 'B')\n",
    "\n",
    "# G.pos = nx.spring_layout(G)\n",
    "\n",
    "nx.draw_networkx(G)"
   ]
  },
  {
   "cell_type": "code",
   "execution_count": 10,
   "id": "54ea16b9",
   "metadata": {},
   "outputs": [
    {
     "data": {
      "text/plain": [
       "NodeView(('A', 'B'))"
      ]
     },
     "execution_count": 10,
     "metadata": {},
     "output_type": "execute_result"
    }
   ],
   "source": [
    "G.nodes() # automatically added"
   ]
  },
  {
   "cell_type": "code",
   "execution_count": 11,
   "id": "3fd0932b",
   "metadata": {},
   "outputs": [
    {
     "data": {
      "text/plain": [
       "EdgeView([('A', 'B')])"
      ]
     },
     "execution_count": 11,
     "metadata": {},
     "output_type": "execute_result"
    }
   ],
   "source": [
    "G.edges()"
   ]
  },
  {
   "cell_type": "code",
   "execution_count": 12,
   "id": "96b43e81",
   "metadata": {},
   "outputs": [
    {
     "data": {
      "text/plain": [
       "[('A', 'B')]"
      ]
     },
     "execution_count": 12,
     "metadata": {},
     "output_type": "execute_result"
    }
   ],
   "source": [
    "list(G.edges())"
   ]
  },
  {
   "cell_type": "markdown",
   "id": "96a35958",
   "metadata": {},
   "source": [
    "### Adding and removing edges weight"
   ]
  },
  {
   "cell_type": "code",
   "execution_count": 13,
   "id": "83b8f7be",
   "metadata": {},
   "outputs": [
    {
     "data": {
      "text/plain": [
       "EdgeView([('A', 'B')])"
      ]
     },
     "execution_count": 13,
     "metadata": {},
     "output_type": "execute_result"
    }
   ],
   "source": [
    "G.add_edge('A', 'B', weight=6)\n",
    "G.edges()"
   ]
  },
  {
   "cell_type": "code",
   "execution_count": 14,
   "id": "916ddd59",
   "metadata": {},
   "outputs": [
    {
     "data": {
      "text/plain": [
       "EdgeDataView([('A', 'B', {'weight': 6})])"
      ]
     },
     "execution_count": 14,
     "metadata": {},
     "output_type": "execute_result"
    }
   ],
   "source": [
    "G.edges(data=True)"
   ]
  },
  {
   "cell_type": "code",
   "execution_count": 15,
   "id": "186a03ff",
   "metadata": {},
   "outputs": [
    {
     "data": {
      "text/plain": [
       "{'weight': 6}"
      ]
     },
     "execution_count": 15,
     "metadata": {},
     "output_type": "execute_result"
    }
   ],
   "source": [
    "G.edges['A', 'B']"
   ]
  },
  {
   "cell_type": "code",
   "execution_count": 16,
   "id": "e5786398",
   "metadata": {},
   "outputs": [
    {
     "data": {
      "text/plain": [
       "{'weight': 6}"
      ]
     },
     "execution_count": 16,
     "metadata": {},
     "output_type": "execute_result"
    }
   ],
   "source": [
    "G.edges['B', 'A']"
   ]
  },
  {
   "cell_type": "code",
   "execution_count": 17,
   "id": "878e61a8",
   "metadata": {},
   "outputs": [
    {
     "data": {
      "text/plain": [
       "AtlasView({'B': {'weight': 6}})"
      ]
     },
     "execution_count": 17,
     "metadata": {},
     "output_type": "execute_result"
    }
   ],
   "source": [
    "G['A']"
   ]
  },
  {
   "cell_type": "code",
   "execution_count": 47,
   "id": "6eabae7f",
   "metadata": {},
   "outputs": [],
   "source": [
    "G.add_edge('A', 'D', weight=62)"
   ]
  },
  {
   "cell_type": "code",
   "execution_count": 48,
   "id": "70b473ca",
   "metadata": {},
   "outputs": [],
   "source": [
    "G.remove_edge('A', 'D')"
   ]
  },
  {
   "cell_type": "markdown",
   "id": "70c4b4ae",
   "metadata": {},
   "source": [
    "### Adding edge attributes"
   ]
  },
  {
   "cell_type": "code",
   "execution_count": 18,
   "id": "23740c24",
   "metadata": {},
   "outputs": [
    {
     "data": {
      "text/plain": [
       "EdgeView([('A', 'B'), ('B', 'C')])"
      ]
     },
     "execution_count": 18,
     "metadata": {},
     "output_type": "execute_result"
    }
   ],
   "source": [
    "G.add_edge('B', 'C', relation='bridge')\n",
    "G.edges()"
   ]
  },
  {
   "cell_type": "code",
   "execution_count": 19,
   "id": "bd92718b",
   "metadata": {},
   "outputs": [
    {
     "data": {
      "text/plain": [
       "{'relation': 'bridge'}"
      ]
     },
     "execution_count": 19,
     "metadata": {},
     "output_type": "execute_result"
    }
   ],
   "source": [
    "G.edges['B', 'C']"
   ]
  },
  {
   "cell_type": "markdown",
   "id": "b8a508ec",
   "metadata": {},
   "source": [
    "### Visualize weights and attributes"
   ]
  },
  {
   "cell_type": "code",
   "execution_count": 23,
   "id": "b9a63472",
   "metadata": {},
   "outputs": [
    {
     "data": {
      "text/plain": [
       "{('A', 'B'): Text(-0.47164162410334265, 0.4001986861539593, '9th Avenue'),\n",
       " ('B', 'C'): Text(0.5000000000000001, -0.4242614155619127, '10th Avenue')}"
      ]
     },
     "execution_count": 23,
     "metadata": {},
     "output_type": "execute_result"
    },
    {
     "data": {
      "image/png": "[encoded data removed]",
      "text/plain": [
       "<Figure size 432x288 with 1 Axes>"
      ]
     },
     "metadata": {},
     "output_type": "display_data"
    }
   ],
   "source": [
    "G = nx.Graph()\n",
    "G.add_edge('A', 'B', weight=6, relation='9th Avenue')\n",
    "G.add_edge('B', 'C', weight=10, relation='10th Avenue')\n",
    "\n",
    "pos = nx.spring_layout(G)\n",
    "nx.draw_networkx(G, pos)\n",
    "\n",
    "for edge in G.edges(data='weight'):\n",
    "    nx.draw_networkx_edges(G, pos, edgelist=[edge], width=edge[2])\n",
    "\n",
    "labels = nx.get_edge_attributes(G,'relation')\n",
    "nx.draw_networkx_edge_labels(G, pos, edge_labels=labels)"
   ]
  },
  {
   "cell_type": "code",
   "execution_count": 24,
   "id": "0a634cca",
   "metadata": {},
   "outputs": [
    {
     "name": "stdout",
     "output_type": "stream",
     "text": [
      "Warning: When  cdn_resources is 'local' jupyter notebook has issues displaying graphics on chrome/safari. Use cdn_resources='in_line' or cdn_resources='remote' if you have issues viewing graphics in a notebook.\n"
     ]
    }
   ],
   "source": [
    "net = Network('700px', '700px', notebook=True)"
   ]
  },
  {
   "cell_type": "code",
   "execution_count": 25,
   "id": "0dcabbe5",
   "metadata": {},
   "outputs": [
    {
     "data": {
      "text/plain": [
       "{('A', 'B'): 0.6, ('B', 'C'): 1.0}"
      ]
     },
     "execution_count": 25,
     "metadata": {},
     "output_type": "execute_result"
    }
   ],
   "source": [
    "edges_length = {(a, b): w/10 for a, b, w in G.edges(data='weight')}\n",
    "edges_length"
   ]
  },
  {
   "cell_type": "markdown",
   "id": "6065ef66",
   "metadata": {},
   "source": [
    "### Visualizing Distance (with netgraph)"
   ]
  },
  {
   "cell_type": "code",
   "execution_count": 26,
   "id": "aa8682b3",
   "metadata": {},
   "outputs": [
    {
     "name": "stderr",
     "output_type": "stream",
     "text": [
      "/home/ismail/.local/lib/python3.10/site-packages/netgraph/_utils.py:360: RuntimeWarning: invalid value encountered in divide\n",
      "  v = v / np.linalg.norm(v, axis=-1)[:, None] # unit vector\n"
     ]
    },
    {
     "data": {
      "image/png": "[encoded data removed]",
      "text/plain": [
       "<Figure size 432x288 with 1 Axes>"
      ]
     },
     "metadata": {},
     "output_type": "display_data"
    }
   ],
   "source": [
    "net.from_nx(G)\n",
    "fig, ax = plt.subplots()\n",
    "\n",
    "Graph(list(edges_length.keys()), node_layout='geometric', node_layout_kwargs=dict(edge_length=edges_length), ax=ax)\n",
    "ax.set_aspect('equal')\n",
    "plt.show()"
   ]
  },
  {
   "cell_type": "markdown",
   "id": "a0b0db06",
   "metadata": {},
   "source": [
    "### Adding node properties"
   ]
  },
  {
   "cell_type": "code",
   "execution_count": 38,
   "id": "e97dd81c",
   "metadata": {},
   "outputs": [],
   "source": [
    "G.add_node('A', role=\"President\")"
   ]
  },
  {
   "cell_type": "code",
   "execution_count": 39,
   "id": "bb8f6d00",
   "metadata": {},
   "outputs": [
    {
     "data": {
      "text/plain": [
       "NodeDataView({'A': {'size': 10, 'country': 'Morocco', 'role': 'President'}, 'B': {'size': 10}, 'C': {'size': 10}})"
      ]
     },
     "execution_count": 39,
     "metadata": {},
     "output_type": "execute_result"
    }
   ],
   "source": [
    "G.nodes(data=True)"
   ]
  },
  {
   "cell_type": "code",
   "execution_count": 40,
   "id": "0aa5f8a7",
   "metadata": {},
   "outputs": [
    {
     "data": {
      "text/plain": [
       "AtlasView({'B': {'relation': '9th Avenue', 'width': 6}})"
      ]
     },
     "execution_count": 40,
     "metadata": {},
     "output_type": "execute_result"
    }
   ],
   "source": [
    "G['A']"
   ]
  },
  {
   "cell_type": "code",
   "execution_count": 41,
   "id": "1feadd05",
   "metadata": {},
   "outputs": [],
   "source": [
    "G.add_node('A', country=\"Morocco\")"
   ]
  },
  {
   "cell_type": "code",
   "execution_count": 42,
   "id": "f9645c6f",
   "metadata": {},
   "outputs": [
    {
     "data": {
      "text/plain": [
       "{'size': 10, 'country': 'Morocco', 'role': 'President'}"
      ]
     },
     "execution_count": 42,
     "metadata": {},
     "output_type": "execute_result"
    }
   ],
   "source": [
    "G.nodes(data=True)['A']"
   ]
  },
  {
   "cell_type": "markdown",
   "id": "1c0965ff",
   "metadata": {},
   "source": [
    "# Directed Graphs"
   ]
  },
  {
   "cell_type": "code",
   "execution_count": 27,
   "id": "4ef66ac8",
   "metadata": {},
   "outputs": [
    {
     "data": {
      "image/png": "[encoded data removed]",
      "text/plain": [
       "<Figure size 432x288 with 1 Axes>"
      ]
     },
     "metadata": {},
     "output_type": "display_data"
    }
   ],
   "source": [
    "D = nx.DiGraph()\n",
    "D.add_edge('A', 'B')\n",
    "D.add_edge('B', 'C')\n",
    "\n",
    "nx.draw_networkx(D)"
   ]
  },
  {
   "cell_type": "code",
   "execution_count": 141,
   "id": "5231aa3b",
   "metadata": {},
   "outputs": [
    {
     "data": {
      "text/plain": [
       "True"
      ]
     },
     "execution_count": 141,
     "metadata": {},
     "output_type": "execute_result"
    }
   ],
   "source": [
    "D.is_directed()"
   ]
  },
  {
   "cell_type": "code",
   "execution_count": 28,
   "id": "865cbb6b",
   "metadata": {},
   "outputs": [
    {
     "data": {
      "text/plain": [
       "True"
      ]
     },
     "execution_count": 28,
     "metadata": {},
     "output_type": "execute_result"
    }
   ],
   "source": [
    "('A', 'B') in D.edges()"
   ]
  },
  {
   "cell_type": "code",
   "execution_count": 29,
   "id": "3c34df0b",
   "metadata": {},
   "outputs": [
    {
     "data": {
      "text/plain": [
       "False"
      ]
     },
     "execution_count": 29,
     "metadata": {},
     "output_type": "execute_result"
    }
   ],
   "source": [
    "('B', 'A') in D.edges()"
   ]
  },
  {
   "cell_type": "code",
   "execution_count": 30,
   "id": "20a2850e",
   "metadata": {},
   "outputs": [
    {
     "data": {
      "text/plain": [
       "OutEdgeView([('A', 'B'), ('B', 'C')])"
      ]
     },
     "execution_count": 30,
     "metadata": {},
     "output_type": "execute_result"
    }
   ],
   "source": [
    "D.edges()"
   ]
  },
  {
   "cell_type": "markdown",
   "id": "191220c0",
   "metadata": {},
   "source": [
    "## Multigraphs"
   ]
  },
  {
   "cell_type": "markdown",
   "id": "3e52e445",
   "metadata": {},
   "source": [
    "Multigraphs are graphs that can have multiple edges between the same nodes"
   ]
  },
  {
   "cell_type": "code",
   "execution_count": 31,
   "id": "0675fc9e",
   "metadata": {},
   "outputs": [
    {
     "data": {
      "image/png": "[encoded data removed]",
      "text/plain": [
       "<Figure size 432x288 with 1 Axes>"
      ]
     },
     "metadata": {},
     "output_type": "display_data"
    }
   ],
   "source": [
    "M = nx.MultiGraph()\n",
    "M.add_edge('A', 'B', relation=\"family\", weight=6)\n",
    "M.add_edge('B', 'A', relation=\"family\", weight=8)\n",
    "M.add_edge('C', 'B', relation=\"family\", weight=10)\n",
    "\n",
    "pos = nx.spring_layout(M)\n",
    "nx.draw_networkx(M, pos)\n",
    "\n",
    "# labels = nx.get_edge_attributes(M,'weight')\n",
    "# nx.draw_networkx_edge_labels(M, pos, edge_labels=labels)\n",
    "# !! draw_networkx_edge_labels does not support multiedges. !!"
   ]
  },
  {
   "cell_type": "code",
   "execution_count": 32,
   "id": "d1e263e1",
   "metadata": {},
   "outputs": [
    {
     "data": {
      "text/plain": [
       "AtlasView({0: {'relation': 'family', 'weight': 6}, 1: {'relation': 'family', 'weight': 8}})"
      ]
     },
     "execution_count": 32,
     "metadata": {},
     "output_type": "execute_result"
    }
   ],
   "source": [
    "# listing all edges between A and B\n",
    "M['A']['B']"
   ]
  },
  {
   "cell_type": "code",
   "execution_count": 33,
   "id": "3413b17c",
   "metadata": {},
   "outputs": [
    {
     "data": {
      "text/plain": [
       "5"
      ]
     },
     "execution_count": 33,
     "metadata": {},
     "output_type": "execute_result"
    }
   ],
   "source": [
    "M['A']['B'][0]['weight'] = 5\n",
    "M['A']['B'][0]['weight']"
   ]
  },
  {
   "cell_type": "markdown",
   "id": "e3dd7f94",
   "metadata": {},
   "source": [
    "### Directed Multigraph"
   ]
  },
  {
   "cell_type": "code",
   "execution_count": 34,
   "id": "5900da4c",
   "metadata": {},
   "outputs": [
    {
     "data": {
      "image/png": "[encoded data removed]",
      "text/plain": [
       "<Figure size 432x288 with 1 Axes>"
      ]
     },
     "metadata": {},
     "output_type": "display_data"
    }
   ],
   "source": [
    "DM = nx.MultiDiGraph()\n",
    "DM.add_edge('A', 'B', relation=\"family\", weight=6)\n",
    "DM.add_edge('B', 'A', relation=\"family\", weight=8)\n",
    "DM.add_edge('C', 'B', relation=\"family\", weight=10)\n",
    "\n",
    "pos = nx.spring_layout(DM)\n",
    "nx.draw_networkx(DM, pos)\n"
   ]
  },
  {
   "cell_type": "code",
   "execution_count": 142,
   "id": "22e0e73b",
   "metadata": {},
   "outputs": [
    {
     "data": {
      "text/plain": [
       "True"
      ]
     },
     "execution_count": 142,
     "metadata": {},
     "output_type": "execute_result"
    }
   ],
   "source": [
    "M.is_multigraph()"
   ]
  },
  {
   "cell_type": "markdown",
   "id": "edded389",
   "metadata": {},
   "source": [
    "# Bipartite Graphs"
   ]
  },
  {
   "cell_type": "markdown",
   "id": "5ffb0b3c",
   "metadata": {},
   "source": [
    "A graph whose nodes can be split into two sets L and R such that every edge connects a node in L to a node in R\n",
    "\n",
    "Eg. \"Categories\" (companies and workers, movies and directors, teams and fans..)"
   ]
  },
  {
   "cell_type": "code",
   "execution_count": 45,
   "id": "3cc64b6d",
   "metadata": {},
   "outputs": [
    {
     "data": {
      "image/png": "[encoded data removed]",
      "text/plain": [
       "<Figure size 432x288 with 1 Axes>"
      ]
     },
     "metadata": {},
     "output_type": "display_data"
    }
   ],
   "source": [
    "B = nx.Graph()\n",
    "B.add_nodes_from(['A', 'B', 'C', 'D'], bipartite='L')\n",
    "B.add_nodes_from(['1', '2', '3', '4'], bipartite='R')\n",
    "B.add_edges_from([('A', '1'), ('B', '1'), ('C', '1'), ('C', '2'), ('D', '3')])\n",
    "\n",
    "nx.draw_networkx(B)"
   ]
  },
  {
   "cell_type": "markdown",
   "id": "a7277493",
   "metadata": {},
   "source": [
    "<div class=\"alert alert-block alert-info\"> You can study bipartite graphs by importing <b>bipartite</b> from <u>networkx.algorithms</u>.</div>"
   ]
  },
  {
   "cell_type": "code",
   "execution_count": 60,
   "id": "c1917a49",
   "metadata": {},
   "outputs": [
    {
     "data": {
      "text/plain": [
       "True"
      ]
     },
     "execution_count": 60,
     "metadata": {},
     "output_type": "execute_result"
    }
   ],
   "source": [
    "nx.bipartite.is_bipartite(B)"
   ]
  },
  {
   "cell_type": "code",
   "execution_count": 49,
   "id": "abcd08f9",
   "metadata": {},
   "outputs": [
    {
     "data": {
      "text/plain": [
       "True"
      ]
     },
     "execution_count": 49,
     "metadata": {},
     "output_type": "execute_result"
    }
   ],
   "source": [
    "nx.bipartite.is_bipartite_node_set(B, ['A', 'B', 'C', 'D'])"
   ]
  },
  {
   "cell_type": "code",
   "execution_count": 50,
   "id": "ddf9986d",
   "metadata": {},
   "outputs": [
    {
     "data": {
      "text/plain": [
       "False"
      ]
     },
     "execution_count": 50,
     "metadata": {},
     "output_type": "execute_result"
    }
   ],
   "source": [
    "nx.bipartite.is_bipartite_node_set(B, ['A', 'B', 'C'])"
   ]
  },
  {
   "cell_type": "code",
   "execution_count": 51,
   "id": "508286dc",
   "metadata": {},
   "outputs": [
    {
     "data": {
      "text/plain": [
       "True"
      ]
     },
     "execution_count": 51,
     "metadata": {},
     "output_type": "execute_result"
    }
   ],
   "source": [
    "nx.bipartite.is_bipartite_node_set(B, ['A', 'B', 'C', 'D', '4'])"
   ]
  },
  {
   "cell_type": "code",
   "execution_count": 52,
   "id": "16dec00b",
   "metadata": {},
   "outputs": [
    {
     "ename": "AmbiguousSolution",
     "evalue": "Disconnected graph: Ambiguous solution for bipartite sets.",
     "output_type": "error",
     "traceback": [
      "\u001b[0;31m---------------------------------------------------------------------------\u001b[0m",
      "\u001b[0;31mAmbiguousSolution\u001b[0m                         Traceback (most recent call last)",
      "Input \u001b[0;32mIn [52]\u001b[0m, in \u001b[0;36m<cell line: 1>\u001b[0;34m()\u001b[0m\n\u001b[0;32m----> 1\u001b[0m \u001b[43mnx\u001b[49m\u001b[38;5;241;43m.\u001b[39;49m\u001b[43mbipartite\u001b[49m\u001b[38;5;241;43m.\u001b[39;49m\u001b[43msets\u001b[49m\u001b[43m(\u001b[49m\u001b[43mB\u001b[49m\u001b[43m)\u001b[49m\n",
      "File \u001b[0;32m~/.local/lib/python3.10/site-packages/networkx/algorithms/bipartite/basic.py:213\u001b[0m, in \u001b[0;36msets\u001b[0;34m(G, top_nodes)\u001b[0m\n\u001b[1;32m    211\u001b[0m \u001b[38;5;28;01mif\u001b[39;00m \u001b[38;5;129;01mnot\u001b[39;00m is_connected(G):\n\u001b[1;32m    212\u001b[0m     msg \u001b[38;5;241m=\u001b[39m \u001b[38;5;124m\"\u001b[39m\u001b[38;5;124mDisconnected graph: Ambiguous solution for bipartite sets.\u001b[39m\u001b[38;5;124m\"\u001b[39m\n\u001b[0;32m--> 213\u001b[0m     \u001b[38;5;28;01mraise\u001b[39;00m nx\u001b[38;5;241m.\u001b[39mAmbiguousSolution(msg)\n\u001b[1;32m    214\u001b[0m c \u001b[38;5;241m=\u001b[39m color(G)\n\u001b[1;32m    215\u001b[0m X \u001b[38;5;241m=\u001b[39m {n \u001b[38;5;28;01mfor\u001b[39;00m n, is_top \u001b[38;5;129;01min\u001b[39;00m c\u001b[38;5;241m.\u001b[39mitems() \u001b[38;5;28;01mif\u001b[39;00m is_top}\n",
      "\u001b[0;31mAmbiguousSolution\u001b[0m: Disconnected graph: Ambiguous solution for bipartite sets."
     ]
    }
   ],
   "source": [
    "nx.bipartite.sets(B)"
   ]
  },
  {
   "cell_type": "code",
   "execution_count": 57,
   "id": "c4a63424",
   "metadata": {},
   "outputs": [],
   "source": [
    "B.add_edge('D', '4')\n",
    "B.add_edge('C', '4')"
   ]
  },
  {
   "cell_type": "code",
   "execution_count": 58,
   "id": "ca17e623",
   "metadata": {},
   "outputs": [
    {
     "data": {
      "text/plain": [
       "False"
      ]
     },
     "execution_count": 58,
     "metadata": {},
     "output_type": "execute_result"
    }
   ],
   "source": [
    "nx.bipartite.is_bipartite_node_set(B, ['A', 'B', 'C', 'D', '4'])"
   ]
  },
  {
   "cell_type": "code",
   "execution_count": 59,
   "id": "37a842fc",
   "metadata": {},
   "outputs": [
    {
     "data": {
      "text/plain": [
       "({'A', 'B', 'C', 'D'}, {'1', '2', '3', '4'})"
      ]
     },
     "execution_count": 59,
     "metadata": {},
     "output_type": "execute_result"
    }
   ],
   "source": [
    "nx.bipartite.sets(B)"
   ]
  },
  {
   "cell_type": "code",
   "execution_count": 69,
   "id": "c13ce78a",
   "metadata": {},
   "outputs": [],
   "source": [
    "B.add_edge('A', '3')\n",
    "B.add_edge('A', '4')\n",
    "B.add_edge('B', '2')\n",
    "B.add_edge('B', '3')\n",
    "B.add_edge('C', '3')\n",
    "B.add_edge('C', '4')"
   ]
  },
  {
   "cell_type": "code",
   "execution_count": 70,
   "id": "ebacefaf",
   "metadata": {},
   "outputs": [
    {
     "data": {
      "image/png": "[encoded data removed]",
      "text/plain": [
       "<Figure size 432x288 with 1 Axes>"
      ]
     },
     "metadata": {},
     "output_type": "display_data"
    }
   ],
   "source": [
    "nx.draw_networkx(B)"
   ]
  },
  {
   "cell_type": "code",
   "execution_count": 71,
   "id": "3f455f3e",
   "metadata": {},
   "outputs": [
    {
     "data": {
      "text/plain": [
       "True"
      ]
     },
     "execution_count": 71,
     "metadata": {},
     "output_type": "execute_result"
    }
   ],
   "source": [
    "nx.bipartite.is_bipartite_node_set(B, ['A', 'B', 'C', 'D'])"
   ]
  },
  {
   "cell_type": "markdown",
   "id": "53823555",
   "metadata": {},
   "source": [
    "### L-bipartite Graph projection\n",
    "\n",
    "Network of nodes in group L, where a pair of nodes is connected if they have a common neighbor in R in the bipartite graph"
   ]
  },
  {
   "cell_type": "code",
   "execution_count": 72,
   "id": "beb0ee24",
   "metadata": {},
   "outputs": [],
   "source": [
    "P = nx.bipartite.projected_graph(B, ['A', 'B', 'C', 'D'])"
   ]
  },
  {
   "cell_type": "code",
   "execution_count": 74,
   "id": "1b7eaecb",
   "metadata": {},
   "outputs": [
    {
     "data": {
      "image/png": "[encoded data removed]",
      "text/plain": [
       "<Figure size 432x288 with 1 Axes>"
      ]
     },
     "metadata": {},
     "output_type": "display_data"
    }
   ],
   "source": [
    "nx.draw_networkx(P)"
   ]
  },
  {
   "cell_type": "code",
   "execution_count": 84,
   "id": "37df83ac",
   "metadata": {},
   "outputs": [
    {
     "data": {
      "image/png": "[encoded data removed]",
      "text/plain": [
       "<Figure size 432x288 with 1 Axes>"
      ]
     },
     "metadata": {},
     "output_type": "display_data"
    }
   ],
   "source": [
    "P2 = nx.bipartite.weighted_projected_graph(B, ['1', '2', '3', '4'])\n",
    "nx.draw_networkx(P2)\n",
    "edge_labels = {(N1, N2): w['weight'] for N1, N2, w in P2.edges(data=True)}\n",
    "_ = nx.draw_networkx_edge_labels(P2, nx.spring_layout(P2), edge_labels=edge_labels)"
   ]
  },
  {
   "cell_type": "markdown",
   "id": "561cfb9c",
   "metadata": {},
   "source": [
    "# Loading Graphs"
   ]
  },
  {
   "cell_type": "markdown",
   "id": "d2da94e1",
   "metadata": {},
   "source": [
    "## Adjacency list\n",
    "\n",
    "!! Nodes are not repeated after their row !!"
   ]
  },
  {
   "cell_type": "code",
   "execution_count": 87,
   "id": "4f4dd05d",
   "metadata": {},
   "outputs": [
    {
     "data": {
      "text/plain": [
       "EdgeView([(0, 1), (0, 2), (0, 3), (0, 5), (1, 3), (1, 6), (3, 4), (5, 4), (5, 8), (4, 7), (8, 9)])"
      ]
     },
     "execution_count": 87,
     "metadata": {},
     "output_type": "execute_result"
    }
   ],
   "source": [
    "G1 = nx.read_adjlist('data/adjacency_list.txt', nodetype=int)\n",
    "G1.edges()"
   ]
  },
  {
   "cell_type": "markdown",
   "id": "f4cae2ab",
   "metadata": {},
   "source": [
    "## Adjacency Matrix"
   ]
  },
  {
   "cell_type": "code",
   "execution_count": 130,
   "id": "89e372cc",
   "metadata": {},
   "outputs": [],
   "source": [
    "# pd.DataFrame(nx.adjacency_matrix(G1).toarray()).to_csv('data/adjacency_matrix.csv', header=False, index=False)"
   ]
  },
  {
   "cell_type": "code",
   "execution_count": 126,
   "id": "50103d94",
   "metadata": {},
   "outputs": [
    {
     "data": {
      "text/plain": [
       "array([[0, 1, 1, 1, 1, 0, 0, 0, 0, 0],\n",
       "       [1, 0, 0, 1, 0, 1, 0, 0, 0, 0],\n",
       "       [1, 0, 0, 0, 0, 0, 0, 0, 0, 0],\n",
       "       [1, 1, 0, 0, 0, 0, 1, 0, 0, 0],\n",
       "       [1, 0, 0, 0, 0, 0, 1, 0, 1, 0],\n",
       "       [0, 1, 0, 0, 0, 0, 0, 0, 0, 0],\n",
       "       [0, 0, 0, 1, 1, 0, 0, 1, 0, 0],\n",
       "       [0, 0, 0, 0, 0, 0, 1, 0, 0, 0],\n",
       "       [0, 0, 0, 0, 1, 0, 0, 0, 0, 1],\n",
       "       [0, 0, 0, 0, 0, 0, 0, 0, 1, 0]])"
      ]
     },
     "execution_count": 126,
     "metadata": {},
     "output_type": "execute_result"
    }
   ],
   "source": [
    "adjacency_matrix = pd.read_csv('data/adjacency_matrix.csv', header=None).values\n",
    "adjacency_matrix"
   ]
  },
  {
   "cell_type": "code",
   "execution_count": 127,
   "id": "8bee2750",
   "metadata": {},
   "outputs": [
    {
     "data": {
      "text/plain": [
       "(10, 10)"
      ]
     },
     "execution_count": 127,
     "metadata": {},
     "output_type": "execute_result"
    }
   ],
   "source": [
    "adjacency_matrix.shape"
   ]
  },
  {
   "cell_type": "code",
   "execution_count": 129,
   "id": "fbf78b7d",
   "metadata": {},
   "outputs": [
    {
     "data": {
      "text/plain": [
       "EdgeView([(0, 1), (0, 2), (0, 3), (0, 4), (1, 3), (1, 5), (3, 6), (4, 6), (4, 8), (6, 7), (8, 9)])"
      ]
     },
     "execution_count": 129,
     "metadata": {},
     "output_type": "execute_result"
    }
   ],
   "source": [
    "G2 = nx.Graph(adjacency_matrix)\n",
    "G2.edges()"
   ]
  },
  {
   "cell_type": "markdown",
   "id": "280be569",
   "metadata": {},
   "source": [
    "## Edge list (with node attributes, all nodes are connected)"
   ]
  },
  {
   "cell_type": "code",
   "execution_count": 133,
   "id": "d7113b99",
   "metadata": {},
   "outputs": [
    {
     "data": {
      "text/plain": [
       "[('0', '1', {'weight': 4}),\n",
       " ('0', '2', {'weight': 3}),\n",
       " ('0', '3', {'weight': 2}),\n",
       " ('0', '5', {'weight': 6}),\n",
       " ('1', '3', {'weight': 2}),\n",
       " ('1', '6', {'weight': 5}),\n",
       " ('3', '4', {'weight': 3}),\n",
       " ('5', '4', {'weight': 1}),\n",
       " ('5', '8', {'weight': 6}),\n",
       " ('4', '7', {'weight': 2}),\n",
       " ('8', '9', {'weight': 1})]"
      ]
     },
     "execution_count": 133,
     "metadata": {},
     "output_type": "execute_result"
    }
   ],
   "source": [
    "G4 = nx.read_edgelist('data/edge_list.txt', data=[('weight', int)])\n",
    "list(G4.edges(data=True))"
   ]
  },
  {
   "cell_type": "markdown",
   "id": "8190494e",
   "metadata": {},
   "source": [
    "### Pandas DataFrame (same format as Edge List)"
   ]
  },
  {
   "cell_type": "code",
   "execution_count": 139,
   "id": "d334e962",
   "metadata": {},
   "outputs": [
    {
     "data": {
      "text/html": [
       "<div>\n",
       "<style scoped>\n",
       "    .dataframe tbody tr th:only-of-type {\n",
       "        vertical-align: middle;\n",
       "    }\n",
       "\n",
       "    .dataframe tbody tr th {\n",
       "        vertical-align: top;\n",
       "    }\n",
       "\n",
       "    .dataframe thead th {\n",
       "        text-align: right;\n",
       "    }\n",
       "</style>\n",
       "<table border=\"1\" class=\"dataframe\">\n",
       "  <thead>\n",
       "    <tr style=\"text-align: right;\">\n",
       "      <th></th>\n",
       "      <th>n1</th>\n",
       "      <th>n2</th>\n",
       "      <th>weight</th>\n",
       "    </tr>\n",
       "  </thead>\n",
       "  <tbody>\n",
       "    <tr>\n",
       "      <th>0</th>\n",
       "      <td>0</td>\n",
       "      <td>1</td>\n",
       "      <td>4</td>\n",
       "    </tr>\n",
       "    <tr>\n",
       "      <th>1</th>\n",
       "      <td>0</td>\n",
       "      <td>2</td>\n",
       "      <td>3</td>\n",
       "    </tr>\n",
       "    <tr>\n",
       "      <th>2</th>\n",
       "      <td>0</td>\n",
       "      <td>3</td>\n",
       "      <td>2</td>\n",
       "    </tr>\n",
       "    <tr>\n",
       "      <th>3</th>\n",
       "      <td>0</td>\n",
       "      <td>5</td>\n",
       "      <td>6</td>\n",
       "    </tr>\n",
       "    <tr>\n",
       "      <th>4</th>\n",
       "      <td>1</td>\n",
       "      <td>3</td>\n",
       "      <td>2</td>\n",
       "    </tr>\n",
       "    <tr>\n",
       "      <th>5</th>\n",
       "      <td>1</td>\n",
       "      <td>6</td>\n",
       "      <td>5</td>\n",
       "    </tr>\n",
       "    <tr>\n",
       "      <th>6</th>\n",
       "      <td>3</td>\n",
       "      <td>4</td>\n",
       "      <td>3</td>\n",
       "    </tr>\n",
       "    <tr>\n",
       "      <th>7</th>\n",
       "      <td>4</td>\n",
       "      <td>5</td>\n",
       "      <td>1</td>\n",
       "    </tr>\n",
       "    <tr>\n",
       "      <th>8</th>\n",
       "      <td>4</td>\n",
       "      <td>7</td>\n",
       "      <td>2</td>\n",
       "    </tr>\n",
       "    <tr>\n",
       "      <th>9</th>\n",
       "      <td>5</td>\n",
       "      <td>8</td>\n",
       "      <td>6</td>\n",
       "    </tr>\n",
       "    <tr>\n",
       "      <th>10</th>\n",
       "      <td>8</td>\n",
       "      <td>9</td>\n",
       "      <td>1</td>\n",
       "    </tr>\n",
       "  </tbody>\n",
       "</table>\n",
       "</div>"
      ],
      "text/plain": [
       "    n1  n2  weight\n",
       "0    0   1       4\n",
       "1    0   2       3\n",
       "2    0   3       2\n",
       "3    0   5       6\n",
       "4    1   3       2\n",
       "5    1   6       5\n",
       "6    3   4       3\n",
       "7    4   5       1\n",
       "8    4   7       2\n",
       "9    5   8       6\n",
       "10   8   9       1"
      ]
     },
     "execution_count": 139,
     "metadata": {},
     "output_type": "execute_result"
    }
   ],
   "source": [
    "G_df = pd.read_csv('data/edge_list.txt', delim_whitespace=True, header=None, names=['n1', 'n2', 'weight'])\n",
    "G_df"
   ]
  },
  {
   "cell_type": "code",
   "execution_count": 140,
   "id": "48221b3e",
   "metadata": {},
   "outputs": [
    {
     "data": {
      "text/plain": [
       "[(0, 1, {'weight': 4}),\n",
       " (0, 2, {'weight': 3}),\n",
       " (0, 3, {'weight': 2}),\n",
       " (0, 5, {'weight': 6}),\n",
       " (1, 3, {'weight': 2}),\n",
       " (1, 6, {'weight': 5}),\n",
       " (3, 4, {'weight': 3}),\n",
       " (5, 4, {'weight': 1}),\n",
       " (5, 8, {'weight': 6}),\n",
       " (4, 7, {'weight': 2}),\n",
       " (8, 9, {'weight': 1})]"
      ]
     },
     "execution_count": 140,
     "metadata": {},
     "output_type": "execute_result"
    }
   ],
   "source": [
    "G5 = nx.from_pandas_edgelist(G_df, 'n1', 'n2', edge_attr='weight')\n",
    "list(G5.edges(data=True))"
   ]
  },
  {
   "cell_type": "markdown",
   "id": "56f7dca3",
   "metadata": {},
   "source": [
    "# Example"
   ]
  },
  {
   "cell_type": "code",
   "execution_count": 143,
   "id": "a5b68d6a",
   "metadata": {},
   "outputs": [
    {
     "name": "stdout",
     "output_type": "stream",
     "text": [
      "1 2 0\t885635999.999997\r\n",
      "1 3 0\t885635999.999997\r\n",
      "1 4 0\t885635999.999997\r\n",
      "1 5 1\t885635999.999997\r\n",
      "1 6 0\t885635999.999997\r\n"
     ]
    }
   ],
   "source": [
    "! head -5 data/chess_graph.txt"
   ]
  },
  {
   "cell_type": "code",
   "execution_count": 146,
   "id": "d454e82f",
   "metadata": {},
   "outputs": [],
   "source": [
    "chess = nx.read_edgelist('data/chess_graph.txt', data=[('outcome', int), ('timestamp', float)], create_using=nx.MultiDiGraph())"
   ]
  },
  {
   "cell_type": "code",
   "execution_count": 148,
   "id": "6e1be7ba",
   "metadata": {},
   "outputs": [
    {
     "data": {
      "text/plain": [
       "(True, True)"
      ]
     },
     "execution_count": 148,
     "metadata": {},
     "output_type": "execute_result"
    }
   ],
   "source": [
    "chess.is_directed(), chess.is_multigraph()"
   ]
  },
  {
   "cell_type": "code",
   "execution_count": 150,
   "id": "1785fb74",
   "metadata": {},
   "outputs": [
    {
     "data": {
      "text/plain": [
       "[('1', '2', {'outcome': 0, 'timestamp': 885635999.999997}),\n",
       " ('1', '3', {'outcome': 0, 'timestamp': 885635999.999997}),\n",
       " ('1', '4', {'outcome': 0, 'timestamp': 885635999.999997}),\n",
       " ('1', '5', {'outcome': 1, 'timestamp': 885635999.999997}),\n",
       " ('1', '6', {'outcome': 0, 'timestamp': 885635999.999997}),\n",
       " ('1', '807', {'outcome': 0, 'timestamp': 896148000.000003}),\n",
       " ('1', '454', {'outcome': 0, 'timestamp': 896148000.000003}),\n",
       " ('1', '827', {'outcome': 0, 'timestamp': 901403999.999997}),\n",
       " ('1', '1240', {'outcome': 0, 'timestamp': 906660000.0}),\n",
       " ('1', '680', {'outcome': 0, 'timestamp': 906660000.0})]"
      ]
     },
     "execution_count": 150,
     "metadata": {},
     "output_type": "execute_result"
    }
   ],
   "source": [
    "list(chess.edges(data=True))[:10]"
   ]
  },
  {
   "cell_type": "code",
   "execution_count": 154,
   "id": "3358f1c8",
   "metadata": {},
   "outputs": [
    {
     "data": {
      "text/plain": [
       "{'1': 48,\n",
       " '2': 112,\n",
       " '3': 85,\n",
       " '4': 12,\n",
       " '5': 18,\n",
       " '6': 95,\n",
       " '7': 9,\n",
       " '8': 20,\n",
       " '9': 142,\n",
       " '10': 4,\n",
       " '11': 2,\n",
       " '12': 70,\n",
       " '13': 148,\n",
       " '14': 153,\n",
       " '15': 23,\n",
       " '16': 3,\n",
       " '17': 115,\n",
       " '18': 45,\n",
       " '19': 27,\n",
       " '20': 12,\n",
       " '21': 65,\n",
       " '22': 6,\n",
       " '23': 41,\n",
       " '24': 72,\n",
       " '25': 72,\n",
       " '26': 2,\n",
       " '27': 3,\n",
       " '28': 41,\n",
       " '29': 8,\n",
       " '30': 115,\n",
       " '31': 23,\n",
       " '32': 146,\n",
       " '33': 67,\n",
       " '34': 52,\n",
       " '35': 22,\n",
       " '36': 118,\n",
       " '37': 30,\n",
       " '38': 39,\n",
       " '39': 79,\n",
       " '40': 26,\n",
       " '41': 71,\n",
       " '42': 200,\n",
       " '43': 10,\n",
       " '44': 77,\n",
       " '45': 74,\n",
       " '46': 41,\n",
       " '47': 92,\n",
       " '48': 45,\n",
       " '49': 58,\n",
       " '50': 9,\n",
       " '51': 90,\n",
       " '52': 4,\n",
       " '53': 167,\n",
       " '54': 80,\n",
       " '55': 35,\n",
       " '56': 87,\n",
       " '57': 48,\n",
       " '58': 29,\n",
       " '59': 111,\n",
       " '60': 43,\n",
       " '61': 107,\n",
       " '62': 74,\n",
       " '63': 7,\n",
       " '64': 171,\n",
       " '65': 43,\n",
       " '66': 203,\n",
       " '67': 39,\n",
       " '68': 23,\n",
       " '69': 4,\n",
       " '70': 15,\n",
       " '71': 55,\n",
       " '72': 10,\n",
       " '73': 19,\n",
       " '74': 144,\n",
       " '75': 22,\n",
       " '76': 20,\n",
       " '77': 71,\n",
       " '78': 18,\n",
       " '79': 122,\n",
       " '80': 4,\n",
       " '81': 29,\n",
       " '82': 29,\n",
       " '83': 58,\n",
       " '84': 32,\n",
       " '85': 35,\n",
       " '86': 13,\n",
       " '87': 52,\n",
       " '88': 61,\n",
       " '89': 123,\n",
       " '90': 58,\n",
       " '91': 100,\n",
       " '92': 257,\n",
       " '93': 24,\n",
       " '94': 10,\n",
       " '95': 14,\n",
       " '96': 41,\n",
       " '97': 25,\n",
       " '98': 276,\n",
       " '99': 28,\n",
       " '100': 20,\n",
       " '101': 49,\n",
       " '102': 31,\n",
       " '103': 8,\n",
       " '104': 95,\n",
       " '105': 6,\n",
       " '106': 18,\n",
       " '107': 14,\n",
       " '108': 75,\n",
       " '109': 100,\n",
       " '110': 12,\n",
       " '111': 42,\n",
       " '112': 208,\n",
       " '113': 142,\n",
       " '114': 96,\n",
       " '115': 87,\n",
       " '116': 14,\n",
       " '117': 26,\n",
       " '118': 51,\n",
       " '119': 10,\n",
       " '120': 52,\n",
       " '121': 36,\n",
       " '122': 106,\n",
       " '123': 28,\n",
       " '124': 138,\n",
       " '125': 38,\n",
       " '126': 85,\n",
       " '127': 166,\n",
       " '128': 118,\n",
       " '129': 82,\n",
       " '130': 211,\n",
       " '131': 66,\n",
       " '132': 207,\n",
       " '133': 73,\n",
       " '134': 3,\n",
       " '135': 13,\n",
       " '136': 9,\n",
       " '137': 24,\n",
       " '138': 108,\n",
       " '139': 44,\n",
       " '140': 38,\n",
       " '141': 10,\n",
       " '142': 65,\n",
       " '143': 62,\n",
       " '144': 21,\n",
       " '145': 64,\n",
       " '146': 18,\n",
       " '147': 66,\n",
       " '148': 111,\n",
       " '149': 78,\n",
       " '150': 20,\n",
       " '151': 51,\n",
       " '152': 69,\n",
       " '153': 91,\n",
       " '154': 2,\n",
       " '155': 35,\n",
       " '156': 63,\n",
       " '157': 110,\n",
       " '158': 93,\n",
       " '159': 53,\n",
       " '160': 103,\n",
       " '161': 73,\n",
       " '162': 65,\n",
       " '163': 29,\n",
       " '164': 150,\n",
       " '165': 140,\n",
       " '166': 87,\n",
       " '167': 16,\n",
       " '168': 8,\n",
       " '169': 30,\n",
       " '170': 15,\n",
       " '171': 114,\n",
       " '172': 126,\n",
       " '173': 40,\n",
       " '174': 36,\n",
       " '175': 22,\n",
       " '176': 6,\n",
       " '177': 39,\n",
       " '178': 88,\n",
       " '179': 48,\n",
       " '180': 25,\n",
       " '181': 8,\n",
       " '182': 39,\n",
       " '183': 43,\n",
       " '184': 37,\n",
       " '185': 82,\n",
       " '186': 52,\n",
       " '187': 99,\n",
       " '188': 180,\n",
       " '189': 131,\n",
       " '190': 36,\n",
       " '191': 15,\n",
       " '192': 11,\n",
       " '193': 108,\n",
       " '194': 21,\n",
       " '195': 49,\n",
       " '196': 24,\n",
       " '197': 88,\n",
       " '198': 7,\n",
       " '199': 89,\n",
       " '200': 127,\n",
       " '201': 99,\n",
       " '202': 127,\n",
       " '203': 20,\n",
       " '204': 37,\n",
       " '205': 11,\n",
       " '206': 4,\n",
       " '207': 185,\n",
       " '208': 8,\n",
       " '209': 2,\n",
       " '210': 4,\n",
       " '211': 194,\n",
       " '212': 28,\n",
       " '213': 21,\n",
       " '214': 30,\n",
       " '215': 20,\n",
       " '216': 22,\n",
       " '217': 5,\n",
       " '218': 9,\n",
       " '219': 81,\n",
       " '220': 54,\n",
       " '221': 14,\n",
       " '222': 37,\n",
       " '223': 93,\n",
       " '224': 100,\n",
       " '225': 7,\n",
       " '226': 71,\n",
       " '227': 112,\n",
       " '228': 146,\n",
       " '229': 60,\n",
       " '230': 4,\n",
       " '231': 41,\n",
       " '232': 64,\n",
       " '233': 22,\n",
       " '234': 80,\n",
       " '235': 62,\n",
       " '236': 36,\n",
       " '237': 197,\n",
       " '238': 125,\n",
       " '239': 88,\n",
       " '240': 17,\n",
       " '241': 31,\n",
       " '242': 138,\n",
       " '243': 3,\n",
       " '244': 13,\n",
       " '245': 8,\n",
       " '246': 104,\n",
       " '247': 29,\n",
       " '248': 83,\n",
       " '249': 8,\n",
       " '250': 40,\n",
       " '251': 191,\n",
       " '252': 76,\n",
       " '253': 15,\n",
       " '254': 24,\n",
       " '255': 58,\n",
       " '256': 148,\n",
       " '257': 149,\n",
       " '258': 46,\n",
       " '259': 107,\n",
       " '260': 78,\n",
       " '261': 86,\n",
       " '262': 21,\n",
       " '263': 34,\n",
       " '264': 88,\n",
       " '265': 21,\n",
       " '266': 39,\n",
       " '267': 21,\n",
       " '268': 45,\n",
       " '269': 85,\n",
       " '270': 63,\n",
       " '271': 1,\n",
       " '272': 140,\n",
       " '273': 1,\n",
       " '274': 2,\n",
       " '275': 192,\n",
       " '276': 21,\n",
       " '277': 54,\n",
       " '278': 154,\n",
       " '279': 14,\n",
       " '280': 129,\n",
       " '281': 64,\n",
       " '282': 4,\n",
       " '283': 34,\n",
       " '284': 11,\n",
       " '285': 146,\n",
       " '286': 15,\n",
       " '287': 107,\n",
       " '288': 10,\n",
       " '289': 41,\n",
       " '290': 1,\n",
       " '291': 24,\n",
       " '292': 1,\n",
       " '293': 2,\n",
       " '294': 13,\n",
       " '295': 46,\n",
       " '296': 21,\n",
       " '297': 7,\n",
       " '298': 28,\n",
       " '299': 122,\n",
       " '300': 112,\n",
       " '301': 47,\n",
       " '302': 61,\n",
       " '303': 39,\n",
       " '304': 38,\n",
       " '305': 17,\n",
       " '306': 37,\n",
       " '307': 16,\n",
       " '308': 28,\n",
       " '309': 19,\n",
       " '310': 107,\n",
       " '311': 4,\n",
       " '312': 50,\n",
       " '313': 50,\n",
       " '314': 79,\n",
       " '315': 21,\n",
       " '316': 36,\n",
       " '317': 16,\n",
       " '318': 47,\n",
       " '319': 9,\n",
       " '320': 44,\n",
       " '321': 28,\n",
       " '322': 54,\n",
       " '323': 20,\n",
       " '324': 27,\n",
       " '325': 26,\n",
       " '326': 14,\n",
       " '327': 74,\n",
       " '328': 78,\n",
       " '329': 15,\n",
       " '330': 272,\n",
       " '331': 7,\n",
       " '332': 37,\n",
       " '333': 78,\n",
       " '334': 179,\n",
       " '335': 67,\n",
       " '336': 35,\n",
       " '337': 124,\n",
       " '338': 31,\n",
       " '339': 113,\n",
       " '340': 59,\n",
       " '341': 18,\n",
       " '342': 9,\n",
       " '343': 4,\n",
       " '344': 26,\n",
       " '345': 41,\n",
       " '346': 7,\n",
       " '347': 26,\n",
       " '348': 4,\n",
       " '349': 26,\n",
       " '350': 9,\n",
       " '351': 8,\n",
       " '352': 149,\n",
       " '353': 26,\n",
       " '354': 37,\n",
       " '355': 55,\n",
       " '356': 42,\n",
       " '357': 119,\n",
       " '358': 45,\n",
       " '359': 13,\n",
       " '360': 66,\n",
       " '361': 9,\n",
       " '362': 64,\n",
       " '363': 16,\n",
       " '364': 51,\n",
       " '365': 20,\n",
       " '366': 57,\n",
       " '367': 9,\n",
       " '368': 2,\n",
       " '369': 23,\n",
       " '370': 26,\n",
       " '371': 258,\n",
       " '372': 72,\n",
       " '373': 67,\n",
       " '374': 6,\n",
       " '375': 39,\n",
       " '376': 75,\n",
       " '377': 2,\n",
       " '378': 7,\n",
       " '379': 3,\n",
       " '380': 4,\n",
       " '381': 9,\n",
       " '382': 9,\n",
       " '383': 152,\n",
       " '384': 70,\n",
       " '385': 113,\n",
       " '386': 2,\n",
       " '387': 187,\n",
       " '388': 23,\n",
       " '389': 5,\n",
       " '390': 5,\n",
       " '391': 9,\n",
       " '392': 59,\n",
       " '393': 130,\n",
       " '394': 42,\n",
       " '395': 35,\n",
       " '396': 86,\n",
       " '397': 17,\n",
       " '398': 23,\n",
       " '399': 52,\n",
       " '400': 180,\n",
       " '401': 17,\n",
       " '402': 18,\n",
       " '403': 38,\n",
       " '404': 11,\n",
       " '405': 13,\n",
       " '406': 3,\n",
       " '407': 29,\n",
       " '408': 42,\n",
       " '409': 45,\n",
       " '410': 9,\n",
       " '411': 9,\n",
       " '412': 141,\n",
       " '413': 6,\n",
       " '414': 92,\n",
       " '415': 34,\n",
       " '416': 95,\n",
       " '417': 4,\n",
       " '418': 78,\n",
       " '419': 26,\n",
       " '420': 3,\n",
       " '421': 150,\n",
       " '422': 3,\n",
       " '423': 92,\n",
       " '424': 10,\n",
       " '425': 21,\n",
       " '426': 17,\n",
       " '427': 4,\n",
       " '428': 4,\n",
       " '429': 9,\n",
       " '430': 10,\n",
       " '431': 8,\n",
       " '432': 46,\n",
       " '433': 23,\n",
       " '434': 3,\n",
       " '435': 69,\n",
       " '436': 117,\n",
       " '437': 12,\n",
       " '438': 4,\n",
       " '439': 88,\n",
       " '440': 171,\n",
       " '441': 46,\n",
       " '442': 14,\n",
       " '443': 83,\n",
       " '444': 78,\n",
       " '445': 62,\n",
       " '446': 112,\n",
       " '447': 201,\n",
       " '448': 116,\n",
       " '449': 126,\n",
       " '450': 30,\n",
       " '451': 125,\n",
       " '452': 96,\n",
       " '453': 94,\n",
       " '454': 22,\n",
       " '455': 252,\n",
       " '456': 221,\n",
       " '457': 45,\n",
       " '458': 54,\n",
       " '459': 62,\n",
       " '460': 76,\n",
       " '461': 280,\n",
       " '462': 196,\n",
       " '463': 45,\n",
       " '464': 24,\n",
       " '465': 161,\n",
       " '466': 96,\n",
       " '467': 270,\n",
       " '468': 130,\n",
       " '469': 6,\n",
       " '470': 15,\n",
       " '471': 61,\n",
       " '472': 22,\n",
       " '473': 59,\n",
       " '474': 4,\n",
       " '475': 26,\n",
       " '476': 113,\n",
       " '477': 87,\n",
       " '478': 21,\n",
       " '479': 26,\n",
       " '480': 58,\n",
       " '481': 30,\n",
       " '482': 121,\n",
       " '483': 92,\n",
       " '484': 23,\n",
       " '485': 66,\n",
       " '486': 42,\n",
       " '487': 132,\n",
       " '488': 46,\n",
       " '489': 3,\n",
       " '490': 15,\n",
       " '491': 42,\n",
       " '492': 48,\n",
       " '493': 16,\n",
       " '494': 23,\n",
       " '495': 38,\n",
       " '496': 136,\n",
       " '497': 112,\n",
       " '498': 17,\n",
       " '499': 61,\n",
       " '500': 148,\n",
       " '501': 8,\n",
       " '502': 64,\n",
       " '503': 96,\n",
       " '504': 25,\n",
       " '505': 18,\n",
       " '506': 2,\n",
       " '507': 68,\n",
       " '508': 97,\n",
       " '509': 17,\n",
       " '510': 131,\n",
       " '511': 28,\n",
       " '512': 4,\n",
       " '513': 31,\n",
       " '514': 71,\n",
       " '515': 33,\n",
       " '516': 131,\n",
       " '517': 14,\n",
       " '518': 3,\n",
       " '519': 178,\n",
       " '520': 14,\n",
       " '521': 53,\n",
       " '522': 81,\n",
       " '523': 50,\n",
       " '524': 15,\n",
       " '525': 17,\n",
       " '526': 22,\n",
       " '527': 7,\n",
       " '528': 12,\n",
       " '529': 5,\n",
       " '530': 56,\n",
       " '531': 3,\n",
       " '532': 4,\n",
       " '533': 3,\n",
       " '534': 20,\n",
       " '535': 12,\n",
       " '536': 89,\n",
       " '537': 162,\n",
       " '538': 112,\n",
       " '539': 53,\n",
       " '540': 25,\n",
       " '541': 19,\n",
       " '542': 53,\n",
       " '543': 142,\n",
       " '544': 6,\n",
       " '545': 158,\n",
       " '546': 51,\n",
       " '547': 26,\n",
       " '548': 18,\n",
       " '549': 51,\n",
       " '550': 9,\n",
       " '551': 15,\n",
       " '552': 48,\n",
       " '553': 4,\n",
       " '554': 5,\n",
       " '555': 8,\n",
       " '556': 21,\n",
       " '557': 125,\n",
       " '558': 17,\n",
       " '559': 1,\n",
       " '560': 125,\n",
       " '561': 41,\n",
       " '562': 36,\n",
       " '563': 178,\n",
       " '564': 8,\n",
       " '565': 10,\n",
       " '566': 78,\n",
       " '567': 17,\n",
       " '568': 29,\n",
       " '569': 52,\n",
       " '570': 10,\n",
       " '571': 4,\n",
       " '572': 28,\n",
       " '573': 216,\n",
       " '574': 112,\n",
       " '575': 4,\n",
       " '576': 26,\n",
       " '577': 92,\n",
       " '578': 24,\n",
       " '579': 155,\n",
       " '580': 207,\n",
       " '581': 21,\n",
       " '582': 19,\n",
       " '583': 78,\n",
       " '584': 5,\n",
       " '585': 9,\n",
       " '586': 171,\n",
       " '587': 9,\n",
       " '588': 37,\n",
       " '589': 49,\n",
       " '590': 21,\n",
       " '591': 1,\n",
       " '592': 2,\n",
       " '593': 45,\n",
       " '594': 4,\n",
       " '595': 136,\n",
       " '596': 26,\n",
       " '597': 6,\n",
       " '598': 2,\n",
       " '599': 16,\n",
       " '600': 38,\n",
       " '601': 65,\n",
       " '602': 41,\n",
       " '603': 20,\n",
       " '604': 23,\n",
       " '605': 137,\n",
       " '606': 8,\n",
       " '607': 15,\n",
       " '608': 17,\n",
       " '609': 83,\n",
       " '610': 193,\n",
       " '611': 3,\n",
       " '612': 31,\n",
       " '613': 5,\n",
       " '614': 18,\n",
       " '615': 17,\n",
       " '616': 5,\n",
       " '617': 1,\n",
       " '618': 2,\n",
       " '619': 1,\n",
       " '620': 13,\n",
       " '621': 164,\n",
       " '622': 82,\n",
       " '623': 211,\n",
       " '624': 7,\n",
       " '625': 6,\n",
       " '626': 10,\n",
       " '627': 38,\n",
       " '628': 8,\n",
       " '629': 8,\n",
       " '630': 3,\n",
       " '631': 9,\n",
       " '632': 15,\n",
       " '633': 46,\n",
       " '634': 33,\n",
       " '635': 155,\n",
       " '636': 27,\n",
       " '637': 192,\n",
       " '638': 52,\n",
       " '639': 43,\n",
       " '640': 60,\n",
       " '641': 74,\n",
       " '642': 47,\n",
       " '643': 130,\n",
       " '644': 57,\n",
       " '645': 6,\n",
       " '646': 71,\n",
       " '647': 66,\n",
       " '648': 52,\n",
       " '649': 105,\n",
       " '650': 3,\n",
       " '651': 100,\n",
       " '652': 90,\n",
       " '653': 158,\n",
       " '654': 131,\n",
       " '655': 61,\n",
       " '656': 132,\n",
       " '657': 48,\n",
       " '658': 33,\n",
       " '659': 255,\n",
       " '660': 22,\n",
       " '661': 83,\n",
       " '662': 54,\n",
       " '663': 54,\n",
       " '664': 99,\n",
       " '665': 11,\n",
       " '666': 7,\n",
       " '667': 9,\n",
       " '668': 43,\n",
       " '669': 20,\n",
       " '670': 93,\n",
       " '671': 42,\n",
       " '672': 27,\n",
       " '673': 232,\n",
       " '674': 86,\n",
       " '675': 10,\n",
       " '676': 54,\n",
       " '677': 15,\n",
       " '678': 3,\n",
       " '679': 1,\n",
       " '680': 42,\n",
       " '681': 57,\n",
       " '682': 15,\n",
       " '683': 13,\n",
       " '684': 126,\n",
       " '685': 147,\n",
       " '686': 36,\n",
       " '687': 85,\n",
       " '688': 13,\n",
       " '689': 39,\n",
       " '690': 59,\n",
       " '691': 59,\n",
       " '692': 123,\n",
       " '693': 15,\n",
       " '694': 14,\n",
       " '695': 11,\n",
       " '696': 34,\n",
       " '697': 24,\n",
       " '698': 3,\n",
       " '699': 6,\n",
       " '700': 41,\n",
       " '701': 42,\n",
       " '702': 8,\n",
       " '703': 27,\n",
       " '704': 75,\n",
       " '705': 18,\n",
       " '706': 60,\n",
       " '707': 62,\n",
       " '708': 13,\n",
       " '709': 24,\n",
       " '710': 84,\n",
       " '711': 9,\n",
       " '712': 110,\n",
       " '713': 61,\n",
       " '714': 59,\n",
       " '715': 56,\n",
       " '716': 29,\n",
       " '717': 11,\n",
       " '718': 4,\n",
       " '719': 28,\n",
       " '720': 191,\n",
       " '721': 120,\n",
       " '722': 39,\n",
       " '723': 25,\n",
       " '724': 25,\n",
       " '725': 134,\n",
       " '726': 50,\n",
       " '727': 6,\n",
       " '728': 118,\n",
       " '729': 1,\n",
       " '730': 33,\n",
       " '731': 195,\n",
       " '732': 1,\n",
       " '733': 27,\n",
       " '734': 53,\n",
       " '735': 2,\n",
       " '736': 188,\n",
       " '737': 37,\n",
       " '738': 18,\n",
       " '739': 51,\n",
       " '740': 27,\n",
       " '741': 166,\n",
       " '742': 155,\n",
       " '743': 28,\n",
       " '744': 32,\n",
       " '745': 13,\n",
       " '746': 39,\n",
       " '747': 52,\n",
       " '748': 114,\n",
       " '749': 53,\n",
       " '750': 7,\n",
       " '751': 2,\n",
       " '752': 61,\n",
       " '753': 87,\n",
       " '754': 34,\n",
       " '755': 21,\n",
       " '756': 27,\n",
       " '757': 18,\n",
       " '758': 10,\n",
       " '759': 85,\n",
       " '760': 5,\n",
       " '761': 30,\n",
       " '762': 17,\n",
       " '763': 29,\n",
       " '764': 18,\n",
       " '765': 34,\n",
       " '766': 8,\n",
       " '767': 24,\n",
       " '768': 4,\n",
       " '769': 9,\n",
       " '770': 24,\n",
       " '771': 35,\n",
       " '772': 40,\n",
       " '773': 49,\n",
       " '774': 24,\n",
       " '775': 48,\n",
       " '776': 9,\n",
       " '777': 67,\n",
       " '778': 130,\n",
       " '779': 4,\n",
       " '780': 11,\n",
       " '781': 4,\n",
       " '782': 8,\n",
       " '783': 50,\n",
       " '784': 28,\n",
       " '785': 19,\n",
       " '786': 8,\n",
       " '787': 78,\n",
       " '788': 45,\n",
       " '789': 155,\n",
       " '790': 47,\n",
       " '791': 17,\n",
       " '792': 46,\n",
       " '793': 46,\n",
       " '794': 7,\n",
       " '795': 17,\n",
       " '796': 14,\n",
       " '797': 30,\n",
       " '798': 126,\n",
       " '799': 24,\n",
       " '800': 19,\n",
       " '801': 185,\n",
       " '802': 10,\n",
       " '803': 164,\n",
       " '804': 1,\n",
       " '805': 7,\n",
       " '806': 63,\n",
       " '807': 87,\n",
       " '808': 68,\n",
       " '809': 16,\n",
       " '810': 20,\n",
       " '811': 6,\n",
       " '812': 1,\n",
       " '813': 13,\n",
       " '814': 3,\n",
       " '815': 57,\n",
       " '816': 54,\n",
       " '817': 49,\n",
       " '818': 60,\n",
       " '819': 57,\n",
       " '820': 13,\n",
       " '821': 4,\n",
       " '822': 57,\n",
       " '823': 3,\n",
       " '824': 73,\n",
       " '825': 80,\n",
       " '826': 63,\n",
       " '827': 84,\n",
       " '828': 38,\n",
       " '829': 25,\n",
       " '830': 46,\n",
       " '831': 109,\n",
       " '832': 30,\n",
       " '833': 184,\n",
       " '834': 36,\n",
       " '835': 5,\n",
       " '836': 6,\n",
       " '837': 14,\n",
       " '838': 63,\n",
       " '839': 12,\n",
       " '840': 43,\n",
       " '841': 17,\n",
       " '842': 61,\n",
       " '843': 8,\n",
       " '844': 31,\n",
       " '845': 3,\n",
       " '846': 6,\n",
       " '847': 21,\n",
       " '848': 78,\n",
       " '849': 129,\n",
       " '850': 2,\n",
       " '851': 33,\n",
       " '852': 42,\n",
       " '853': 22,\n",
       " '854': 7,\n",
       " '855': 18,\n",
       " '856': 6,\n",
       " '857': 10,\n",
       " '858': 4,\n",
       " '859': 37,\n",
       " '860': 33,\n",
       " '861': 28,\n",
       " '862': 139,\n",
       " '863': 39,\n",
       " '864': 35,\n",
       " '865': 13,\n",
       " '866': 5,\n",
       " '867': 14,\n",
       " '868': 36,\n",
       " '869': 6,\n",
       " '870': 21,\n",
       " '871': 28,\n",
       " '872': 70,\n",
       " '873': 20,\n",
       " '874': 42,\n",
       " '875': 9,\n",
       " '876': 28,\n",
       " '877': 8,\n",
       " '878': 11,\n",
       " '879': 46,\n",
       " '880': 117,\n",
       " '881': 6,\n",
       " '882': 78,\n",
       " '883': 78,\n",
       " '884': 9,\n",
       " '885': 102,\n",
       " '886': 39,\n",
       " '887': 6,\n",
       " '888': 12,\n",
       " '889': 11,\n",
       " '890': 9,\n",
       " '891': 56,\n",
       " '892': 17,\n",
       " '893': 37,\n",
       " '894': 2,\n",
       " '895': 36,\n",
       " '896': 14,\n",
       " '897': 66,\n",
       " '898': 36,\n",
       " '899': 12,\n",
       " '900': 43,\n",
       " '901': 29,\n",
       " '902': 45,\n",
       " '903': 2,\n",
       " '904': 20,\n",
       " '905': 5,\n",
       " '906': 11,\n",
       " '907': 19,\n",
       " '908': 25,\n",
       " '909': 5,\n",
       " '910': 92,\n",
       " '911': 3,\n",
       " '912': 3,\n",
       " '913': 195,\n",
       " '914': 82,\n",
       " '915': 25,\n",
       " '916': 5,\n",
       " '917': 14,\n",
       " '918': 17,\n",
       " '919': 6,\n",
       " '920': 29,\n",
       " '921': 47,\n",
       " '922': 15,\n",
       " '923': 5,\n",
       " '924': 15,\n",
       " '925': 44,\n",
       " '926': 26,\n",
       " '927': 26,\n",
       " '928': 31,\n",
       " '929': 34,\n",
       " '930': 24,\n",
       " '931': 70,\n",
       " '932': 13,\n",
       " '933': 64,\n",
       " '934': 6,\n",
       " '935': 19,\n",
       " '936': 9,\n",
       " '937': 4,\n",
       " '938': 24,\n",
       " '939': 13,\n",
       " '940': 7,\n",
       " '941': 34,\n",
       " '942': 24,\n",
       " '943': 14,\n",
       " '944': 5,\n",
       " '945': 22,\n",
       " '946': 48,\n",
       " '947': 13,\n",
       " '948': 13,\n",
       " '949': 9,\n",
       " '950': 106,\n",
       " '951': 4,\n",
       " '952': 65,\n",
       " '953': 32,\n",
       " '954': 12,\n",
       " '955': 53,\n",
       " '956': 70,\n",
       " '957': 14,\n",
       " '958': 44,\n",
       " '959': 101,\n",
       " '960': 64,\n",
       " '961': 60,\n",
       " '962': 5,\n",
       " '963': 14,\n",
       " '964': 7,\n",
       " '965': 48,\n",
       " '966': 4,\n",
       " '967': 3,\n",
       " '968': 100,\n",
       " '969': 1,\n",
       " '970': 1,\n",
       " '971': 43,\n",
       " '972': 9,\n",
       " '973': 98,\n",
       " '974': 26,\n",
       " '975': 33,\n",
       " '976': 40,\n",
       " '977': 9,\n",
       " '978': 19,\n",
       " '979': 2,\n",
       " '980': 3,\n",
       " '981': 61,\n",
       " '982': 10,\n",
       " '983': 154,\n",
       " '984': 7,\n",
       " '985': 1,\n",
       " '986': 3,\n",
       " '987': 74,\n",
       " '988': 12,\n",
       " '989': 66,\n",
       " '990': 4,\n",
       " '991': 27,\n",
       " '992': 14,\n",
       " '993': 30,\n",
       " '994': 8,\n",
       " '995': 18,\n",
       " '996': 8,\n",
       " '997': 45,\n",
       " '998': 10,\n",
       " '999': 22,\n",
       " '1000': 7,\n",
       " ...}"
      ]
     },
     "execution_count": 154,
     "metadata": {},
     "output_type": "execute_result"
    }
   ],
   "source": [
    "games_played = dict(chess.degree())\n",
    "games_played"
   ]
  },
  {
   "cell_type": "code",
   "execution_count": 157,
   "id": "566b9172",
   "metadata": {},
   "outputs": [
    {
     "name": "stdout",
     "output_type": "stream",
     "text": [
      "Player 461 played 280 games\n"
     ]
    }
   ],
   "source": [
    "max_value = max(games_played.values())\n",
    "max_key, = [i for i in games_played.keys() if games_played[i] == max_value]\n",
    "\n",
    "print(f'Player {max_key} played {max_value} games')"
   ]
  },
  {
   "cell_type": "code",
   "execution_count": 158,
   "id": "e3b4d04c",
   "metadata": {},
   "outputs": [
    {
     "data": {
      "text/html": [
       "<div>\n",
       "<style scoped>\n",
       "    .dataframe tbody tr th:only-of-type {\n",
       "        vertical-align: middle;\n",
       "    }\n",
       "\n",
       "    .dataframe tbody tr th {\n",
       "        vertical-align: top;\n",
       "    }\n",
       "\n",
       "    .dataframe thead th {\n",
       "        text-align: right;\n",
       "    }\n",
       "</style>\n",
       "<table border=\"1\" class=\"dataframe\">\n",
       "  <thead>\n",
       "    <tr style=\"text-align: right;\">\n",
       "      <th></th>\n",
       "      <th>white</th>\n",
       "      <th>black</th>\n",
       "      <th>outcome</th>\n",
       "    </tr>\n",
       "  </thead>\n",
       "  <tbody>\n",
       "    <tr>\n",
       "      <th>0</th>\n",
       "      <td>1</td>\n",
       "      <td>2</td>\n",
       "      <td>{'outcome': 0, 'timestamp': 885635999.999997}</td>\n",
       "    </tr>\n",
       "    <tr>\n",
       "      <th>1</th>\n",
       "      <td>1</td>\n",
       "      <td>3</td>\n",
       "      <td>{'outcome': 0, 'timestamp': 885635999.999997}</td>\n",
       "    </tr>\n",
       "    <tr>\n",
       "      <th>2</th>\n",
       "      <td>1</td>\n",
       "      <td>4</td>\n",
       "      <td>{'outcome': 0, 'timestamp': 885635999.999997}</td>\n",
       "    </tr>\n",
       "    <tr>\n",
       "      <th>3</th>\n",
       "      <td>1</td>\n",
       "      <td>5</td>\n",
       "      <td>{'outcome': 1, 'timestamp': 885635999.999997}</td>\n",
       "    </tr>\n",
       "    <tr>\n",
       "      <th>4</th>\n",
       "      <td>1</td>\n",
       "      <td>6</td>\n",
       "      <td>{'outcome': 0, 'timestamp': 885635999.999997}</td>\n",
       "    </tr>\n",
       "  </tbody>\n",
       "</table>\n",
       "</div>"
      ],
      "text/plain": [
       "  white black                                        outcome\n",
       "0     1     2  {'outcome': 0, 'timestamp': 885635999.999997}\n",
       "1     1     3  {'outcome': 0, 'timestamp': 885635999.999997}\n",
       "2     1     4  {'outcome': 0, 'timestamp': 885635999.999997}\n",
       "3     1     5  {'outcome': 1, 'timestamp': 885635999.999997}\n",
       "4     1     6  {'outcome': 0, 'timestamp': 885635999.999997}"
      ]
     },
     "execution_count": 158,
     "metadata": {},
     "output_type": "execute_result"
    }
   ],
   "source": [
    "df = pd.DataFrame(chess.edges(data=True), columns=['white', 'black', 'outcome'])\n",
    "df.head()"
   ]
  },
  {
   "cell_type": "code",
   "execution_count": 159,
   "id": "d4b0e75c",
   "metadata": {},
   "outputs": [],
   "source": [
    "df['outcome'] = df['outcome'].map(lambda x: x['outcome'])"
   ]
  },
  {
   "cell_type": "code",
   "execution_count": 160,
   "id": "789a9ecd",
   "metadata": {},
   "outputs": [
    {
     "data": {
      "text/html": [
       "<div>\n",
       "<style scoped>\n",
       "    .dataframe tbody tr th:only-of-type {\n",
       "        vertical-align: middle;\n",
       "    }\n",
       "\n",
       "    .dataframe tbody tr th {\n",
       "        vertical-align: top;\n",
       "    }\n",
       "\n",
       "    .dataframe thead th {\n",
       "        text-align: right;\n",
       "    }\n",
       "</style>\n",
       "<table border=\"1\" class=\"dataframe\">\n",
       "  <thead>\n",
       "    <tr style=\"text-align: right;\">\n",
       "      <th></th>\n",
       "      <th>white</th>\n",
       "      <th>black</th>\n",
       "      <th>outcome</th>\n",
       "    </tr>\n",
       "  </thead>\n",
       "  <tbody>\n",
       "    <tr>\n",
       "      <th>0</th>\n",
       "      <td>1</td>\n",
       "      <td>2</td>\n",
       "      <td>0</td>\n",
       "    </tr>\n",
       "    <tr>\n",
       "      <th>1</th>\n",
       "      <td>1</td>\n",
       "      <td>3</td>\n",
       "      <td>0</td>\n",
       "    </tr>\n",
       "    <tr>\n",
       "      <th>2</th>\n",
       "      <td>1</td>\n",
       "      <td>4</td>\n",
       "      <td>0</td>\n",
       "    </tr>\n",
       "    <tr>\n",
       "      <th>3</th>\n",
       "      <td>1</td>\n",
       "      <td>5</td>\n",
       "      <td>1</td>\n",
       "    </tr>\n",
       "    <tr>\n",
       "      <th>4</th>\n",
       "      <td>1</td>\n",
       "      <td>6</td>\n",
       "      <td>0</td>\n",
       "    </tr>\n",
       "  </tbody>\n",
       "</table>\n",
       "</div>"
      ],
      "text/plain": [
       "  white black  outcome\n",
       "0     1     2        0\n",
       "1     1     3        0\n",
       "2     1     4        0\n",
       "3     1     5        1\n",
       "4     1     6        0"
      ]
     },
     "execution_count": 160,
     "metadata": {},
     "output_type": "execute_result"
    }
   ],
   "source": [
    "df.head()"
   ]
  },
  {
   "cell_type": "code",
   "execution_count": 161,
   "id": "3549883d",
   "metadata": {},
   "outputs": [
    {
     "data": {
      "text/html": [
       "<div>\n",
       "<style scoped>\n",
       "    .dataframe tbody tr th:only-of-type {\n",
       "        vertical-align: middle;\n",
       "    }\n",
       "\n",
       "    .dataframe tbody tr th {\n",
       "        vertical-align: top;\n",
       "    }\n",
       "\n",
       "    .dataframe thead th {\n",
       "        text-align: right;\n",
       "    }\n",
       "</style>\n",
       "<table border=\"1\" class=\"dataframe\">\n",
       "  <thead>\n",
       "    <tr style=\"text-align: right;\">\n",
       "      <th></th>\n",
       "      <th>outcome</th>\n",
       "    </tr>\n",
       "  </thead>\n",
       "  <tbody>\n",
       "    <tr>\n",
       "      <th>1</th>\n",
       "      <td>7.0</td>\n",
       "    </tr>\n",
       "    <tr>\n",
       "      <th>100</th>\n",
       "      <td>7.0</td>\n",
       "    </tr>\n",
       "    <tr>\n",
       "      <th>1000</th>\n",
       "      <td>1.0</td>\n",
       "    </tr>\n",
       "    <tr>\n",
       "      <th>1002</th>\n",
       "      <td>1.0</td>\n",
       "    </tr>\n",
       "    <tr>\n",
       "      <th>1003</th>\n",
       "      <td>5.0</td>\n",
       "    </tr>\n",
       "  </tbody>\n",
       "</table>\n",
       "</div>"
      ],
      "text/plain": [
       "      outcome\n",
       "1         7.0\n",
       "100       7.0\n",
       "1000      1.0\n",
       "1002      1.0\n",
       "1003      5.0"
      ]
     },
     "execution_count": 161,
     "metadata": {},
     "output_type": "execute_result"
    }
   ],
   "source": [
    "won_as_white = df[df['outcome'] == 1].groupby('white').sum()\n",
    "won_as_black = -df[df['outcome'] == -1].groupby('black').sum()\n",
    "\n",
    "win_count = won_as_white.add(won_as_black, fill_value = 0)\n",
    "win_count.head()"
   ]
  },
  {
   "cell_type": "code",
   "execution_count": 162,
   "id": "50fde04e",
   "metadata": {},
   "outputs": [
    {
     "data": {
      "text/html": [
       "<div>\n",
       "<style scoped>\n",
       "    .dataframe tbody tr th:only-of-type {\n",
       "        vertical-align: middle;\n",
       "    }\n",
       "\n",
       "    .dataframe tbody tr th {\n",
       "        vertical-align: top;\n",
       "    }\n",
       "\n",
       "    .dataframe thead th {\n",
       "        text-align: right;\n",
       "    }\n",
       "</style>\n",
       "<table border=\"1\" class=\"dataframe\">\n",
       "  <thead>\n",
       "    <tr style=\"text-align: right;\">\n",
       "      <th></th>\n",
       "      <th>outcome</th>\n",
       "    </tr>\n",
       "  </thead>\n",
       "  <tbody>\n",
       "    <tr>\n",
       "      <th>330</th>\n",
       "      <td>109.0</td>\n",
       "    </tr>\n",
       "    <tr>\n",
       "      <th>467</th>\n",
       "      <td>103.0</td>\n",
       "    </tr>\n",
       "    <tr>\n",
       "      <th>98</th>\n",
       "      <td>94.0</td>\n",
       "    </tr>\n",
       "    <tr>\n",
       "      <th>456</th>\n",
       "      <td>88.0</td>\n",
       "    </tr>\n",
       "    <tr>\n",
       "      <th>461</th>\n",
       "      <td>88.0</td>\n",
       "    </tr>\n",
       "  </tbody>\n",
       "</table>\n",
       "</div>"
      ],
      "text/plain": [
       "     outcome\n",
       "330    109.0\n",
       "467    103.0\n",
       "98      94.0\n",
       "456     88.0\n",
       "461     88.0"
      ]
     },
     "execution_count": 162,
     "metadata": {},
     "output_type": "execute_result"
    }
   ],
   "source": [
    "win_count.nlargest(5, 'outcome')"
   ]
  },
  {
   "cell_type": "code",
   "execution_count": null,
   "id": "57571ef7",
   "metadata": {},
   "outputs": [],
   "source": []
  }
 ],
 "metadata": {
  "kernelspec": {
   "display_name": "Python 3 (ipykernel)",
   "language": "python",
   "name": "python3"
  },
  "language_info": {
   "codemirror_mode": {
    "name": "ipython",
    "version": 3
   },
   "file_extension": ".py",
   "mimetype": "text/x-python",
   "name": "python",
   "nbconvert_exporter": "python",
   "pygments_lexer": "ipython3",
   "version": "3.10.6"
  }
 },
 "nbformat": 4,
 "nbformat_minor": 5
}
