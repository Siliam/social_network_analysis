{
 "cells": [
  {
   "cell_type": "code",
   "execution_count": 1,
   "id": "fbec91c4",
   "metadata": {},
   "outputs": [],
   "source": [
    "import networkx as nx\n",
    "import matplotlib.pyplot as plt\n",
    "from pyvis.network import Network\n",
    "from netgraph import Graph"
   ]
  },
  {
   "cell_type": "markdown",
   "id": "ab8ba68e",
   "metadata": {},
   "source": [
    "# Undirected Graphs"
   ]
  },
  {
   "cell_type": "code",
   "execution_count": 16,
   "id": "d72c4757",
   "metadata": {},
   "outputs": [
    {
     "data": {
      "image/png": "[encoded data removed]",
      "text/plain": [
       "<Figure size 432x288 with 1 Axes>"
      ]
     },
     "metadata": {},
     "output_type": "display_data"
    }
   ],
   "source": [
    "G = nx.Graph()\n",
    "G.add_edge('A', 'B')\n",
    "\n",
    "# G.pos = nx.spring_layout(G)\n",
    "\n",
    "nx.draw_networkx(G)"
   ]
  },
  {
   "cell_type": "code",
   "execution_count": 17,
   "id": "54ea16b9",
   "metadata": {},
   "outputs": [
    {
     "data": {
      "text/plain": [
       "NodeView(('A', 'B'))"
      ]
     },
     "execution_count": 17,
     "metadata": {},
     "output_type": "execute_result"
    }
   ],
   "source": [
    "G.nodes() # automatically added"
   ]
  },
  {
   "cell_type": "code",
   "execution_count": 18,
   "id": "3fd0932b",
   "metadata": {},
   "outputs": [
    {
     "data": {
      "text/plain": [
       "EdgeView([('A', 'B')])"
      ]
     },
     "execution_count": 18,
     "metadata": {},
     "output_type": "execute_result"
    }
   ],
   "source": [
    "G.edges()"
   ]
  },
  {
   "cell_type": "code",
   "execution_count": 19,
   "id": "96b43e81",
   "metadata": {},
   "outputs": [
    {
     "data": {
      "text/plain": [
       "[('A', 'B')]"
      ]
     },
     "execution_count": 19,
     "metadata": {},
     "output_type": "execute_result"
    }
   ],
   "source": [
    "list(G.edges())"
   ]
  },
  {
   "cell_type": "markdown",
   "id": "96a35958",
   "metadata": {},
   "source": [
    "## Adding edges weight"
   ]
  },
  {
   "cell_type": "code",
   "execution_count": 20,
   "id": "83b8f7be",
   "metadata": {},
   "outputs": [
    {
     "data": {
      "text/plain": [
       "EdgeView([('A', 'B')])"
      ]
     },
     "execution_count": 20,
     "metadata": {},
     "output_type": "execute_result"
    }
   ],
   "source": [
    "G.add_edge('A', 'B', weight=6)\n",
    "G.edges()"
   ]
  },
  {
   "cell_type": "code",
   "execution_count": 21,
   "id": "916ddd59",
   "metadata": {},
   "outputs": [
    {
     "data": {
      "text/plain": [
       "EdgeDataView([('A', 'B', {'weight': 6})])"
      ]
     },
     "execution_count": 21,
     "metadata": {},
     "output_type": "execute_result"
    }
   ],
   "source": [
    "G.edges(data=True)"
   ]
  },
  {
   "cell_type": "code",
   "execution_count": 22,
   "id": "186a03ff",
   "metadata": {},
   "outputs": [
    {
     "data": {
      "text/plain": [
       "{'weight': 6}"
      ]
     },
     "execution_count": 22,
     "metadata": {},
     "output_type": "execute_result"
    }
   ],
   "source": [
    "G.edges['A', 'B']"
   ]
  },
  {
   "cell_type": "code",
   "execution_count": 23,
   "id": "e5786398",
   "metadata": {},
   "outputs": [
    {
     "data": {
      "text/plain": [
       "{'weight': 6}"
      ]
     },
     "execution_count": 23,
     "metadata": {},
     "output_type": "execute_result"
    }
   ],
   "source": [
    "G.edges['B', 'A']"
   ]
  },
  {
   "cell_type": "code",
   "execution_count": 50,
   "id": "878e61a8",
   "metadata": {},
   "outputs": [
    {
     "data": {
      "text/plain": [
       "AtlasView({'B': {'weight': 6}})"
      ]
     },
     "execution_count": 50,
     "metadata": {},
     "output_type": "execute_result"
    }
   ],
   "source": [
    "G['A']"
   ]
  },
  {
   "cell_type": "markdown",
   "id": "70c4b4ae",
   "metadata": {},
   "source": [
    "## Adding edge attributes"
   ]
  },
  {
   "cell_type": "code",
   "execution_count": 24,
   "id": "23740c24",
   "metadata": {},
   "outputs": [
    {
     "data": {
      "text/plain": [
       "EdgeView([('A', 'B'), ('B', 'C')])"
      ]
     },
     "execution_count": 24,
     "metadata": {},
     "output_type": "execute_result"
    }
   ],
   "source": [
    "G.add_edge('B', 'C', relation='bridge')\n",
    "G.edges()"
   ]
  },
  {
   "cell_type": "code",
   "execution_count": 25,
   "id": "bd92718b",
   "metadata": {},
   "outputs": [
    {
     "data": {
      "text/plain": [
       "{'relation': 'bridge'}"
      ]
     },
     "execution_count": 25,
     "metadata": {},
     "output_type": "execute_result"
    }
   ],
   "source": [
    "G.edges['B', 'C']"
   ]
  },
  {
   "cell_type": "code",
   "execution_count": 57,
   "id": "e97dd81c",
   "metadata": {},
   "outputs": [],
   "source": [
    "G.add_node('A', role=\"President\")"
   ]
  },
  {
   "cell_type": "code",
   "execution_count": 58,
   "id": "bb8f6d00",
   "metadata": {},
   "outputs": [
    {
     "data": {
      "text/plain": [
       "NodeDataView({'A': {'role': 'President'}, 'B': {}, 'C': {}})"
      ]
     },
     "execution_count": 58,
     "metadata": {},
     "output_type": "execute_result"
    }
   ],
   "source": [
    "G.nodes(data=True)"
   ]
  },
  {
   "cell_type": "code",
   "execution_count": 60,
   "id": "0aa5f8a7",
   "metadata": {},
   "outputs": [
    {
     "data": {
      "text/plain": [
       "AtlasView({'B': {'weight': 6}})"
      ]
     },
     "execution_count": 60,
     "metadata": {},
     "output_type": "execute_result"
    }
   ],
   "source": [
    "G['A']"
   ]
  },
  {
   "cell_type": "markdown",
   "id": "b8a508ec",
   "metadata": {},
   "source": [
    "## Visualize weights and attributes"
   ]
  },
  {
   "cell_type": "code",
   "execution_count": 34,
   "id": "b9a63472",
   "metadata": {},
   "outputs": [
    {
     "name": "stderr",
     "output_type": "stream",
     "text": [
      "/tmp/ipykernel_1253853/4012028106.py:9: DeprecationWarning: `alltrue` is deprecated as of NumPy 1.25.0, and will be removed in NumPy 2.0. Please use `all` instead.\n",
      "  nx.draw_networkx_edges(G, pos, edgelist=[edge], width=edge[2])\n"
     ]
    },
    {
     "data": {
      "text/plain": [
       "{('A', 'B'): Text(0.07022571478609471, 0.4707637722456877, '9th Avenue'),\n",
       " ('B', 'C'): Text(-0.07458702674044534, -0.4999999999999999, '10th Avenue')}"
      ]
     },
     "execution_count": 34,
     "metadata": {},
     "output_type": "execute_result"
    },
    {
     "data": {
      "image/png": "[encoded data removed]",
      "text/plain": [
       "<Figure size 432x288 with 1 Axes>"
      ]
     },
     "metadata": {},
     "output_type": "display_data"
    }
   ],
   "source": [
    "G = nx.Graph()\n",
    "G.add_edge('A', 'B', weight=6, relation='9th Avenue')\n",
    "G.add_edge('B', 'C', weight=10, relation='10th Avenue')\n",
    "\n",
    "pos = nx.spring_layout(G)\n",
    "nx.draw_networkx(G, pos)\n",
    "\n",
    "for edge in G.edges(data='weight'):\n",
    "    nx.draw_networkx_edges(G, pos, edgelist=[edge], width=edge[2])\n",
    "\n",
    "labels = nx.get_edge_attributes(G,'relation')\n",
    "nx.draw_networkx_edge_labels(G, pos, edge_labels=labels)"
   ]
  },
  {
   "cell_type": "code",
   "execution_count": 35,
   "id": "0a634cca",
   "metadata": {},
   "outputs": [
    {
     "name": "stdout",
     "output_type": "stream",
     "text": [
      "Warning: When  cdn_resources is 'local' jupyter notebook has issues displaying graphics on chrome/safari. Use cdn_resources='in_line' or cdn_resources='remote' if you have issues viewing graphics in a notebook.\n"
     ]
    }
   ],
   "source": [
    "net = Network('700px', '700px', notebook=True)"
   ]
  },
  {
   "cell_type": "code",
   "execution_count": 36,
   "id": "0dcabbe5",
   "metadata": {},
   "outputs": [
    {
     "data": {
      "text/plain": [
       "{('A', 'B'): 0.6, ('B', 'C'): 1.0}"
      ]
     },
     "execution_count": 36,
     "metadata": {},
     "output_type": "execute_result"
    }
   ],
   "source": [
    "edges_length = {(a, b): w/10 for a, b, w in G.edges(data='weight')}\n",
    "edges_length"
   ]
  },
  {
   "cell_type": "markdown",
   "id": "6065ef66",
   "metadata": {},
   "source": [
    "### Visualizing Distance (with netgraph)"
   ]
  },
  {
   "cell_type": "code",
   "execution_count": 37,
   "id": "aa8682b3",
   "metadata": {},
   "outputs": [
    {
     "name": "stderr",
     "output_type": "stream",
     "text": [
      "/home/ismail/anaconda3/lib/python3.9/site-packages/netgraph/_utils.py:360: RuntimeWarning: invalid value encountered in divide\n",
      "  v = v / np.linalg.norm(v, axis=-1)[:, None] # unit vector\n"
     ]
    },
    {
     "data": {
      "image/png": "[encoded data removed]",
      "text/plain": [
       "<Figure size 432x288 with 1 Axes>"
      ]
     },
     "metadata": {},
     "output_type": "display_data"
    }
   ],
   "source": [
    "net.from_nx(G)\n",
    "fig, ax = plt.subplots()\n",
    "\n",
    "Graph(list(edges_length.keys()), node_layout='geometric', node_layout_kwargs=dict(edge_length=edges_length), ax=ax)\n",
    "ax.set_aspect('equal')\n",
    "plt.show()"
   ]
  },
  {
   "cell_type": "markdown",
   "id": "1c0965ff",
   "metadata": {},
   "source": [
    "## Directed Graphs"
   ]
  },
  {
   "cell_type": "code",
   "execution_count": 40,
   "id": "4ef66ac8",
   "metadata": {},
   "outputs": [
    {
     "data": {
      "image/png": "[encoded data removed]",
      "text/plain": [
       "<Figure size 432x288 with 1 Axes>"
      ]
     },
     "metadata": {},
     "output_type": "display_data"
    }
   ],
   "source": [
    "D = nx.DiGraph()\n",
    "D.add_edge('A', 'B')\n",
    "D.add_edge('B', 'C')\n",
    "\n",
    "nx.draw_networkx(D)"
   ]
  },
  {
   "cell_type": "code",
   "execution_count": 34,
   "id": "865cbb6b",
   "metadata": {},
   "outputs": [
    {
     "data": {
      "text/plain": [
       "True"
      ]
     },
     "execution_count": 34,
     "metadata": {},
     "output_type": "execute_result"
    }
   ],
   "source": [
    "('A', 'B') in D.edges()"
   ]
  },
  {
   "cell_type": "code",
   "execution_count": 35,
   "id": "3c34df0b",
   "metadata": {},
   "outputs": [
    {
     "data": {
      "text/plain": [
       "False"
      ]
     },
     "execution_count": 35,
     "metadata": {},
     "output_type": "execute_result"
    }
   ],
   "source": [
    "('B', 'A') in D.edges()"
   ]
  },
  {
   "cell_type": "code",
   "execution_count": 36,
   "id": "20a2850e",
   "metadata": {},
   "outputs": [
    {
     "data": {
      "text/plain": [
       "OutEdgeView([('A', 'B'), ('B', 'C')])"
      ]
     },
     "execution_count": 36,
     "metadata": {},
     "output_type": "execute_result"
    }
   ],
   "source": [
    "D.edges()"
   ]
  },
  {
   "cell_type": "markdown",
   "id": "191220c0",
   "metadata": {},
   "source": [
    "# Multigraphs"
   ]
  },
  {
   "cell_type": "markdown",
   "id": "3e52e445",
   "metadata": {},
   "source": [
    "Multigraphs are graphs that can have multiple edges between the same nodes"
   ]
  },
  {
   "cell_type": "code",
   "execution_count": 54,
   "id": "0675fc9e",
   "metadata": {},
   "outputs": [
    {
     "data": {
      "image/png": "[encoded data removed]",
      "text/plain": [
       "<Figure size 432x288 with 1 Axes>"
      ]
     },
     "metadata": {},
     "output_type": "display_data"
    }
   ],
   "source": [
    "M = nx.MultiGraph()\n",
    "M.add_edge('A', 'B', relation=\"family\", weight=6)\n",
    "M.add_edge('B', 'A', relation=\"family\", weight=8)\n",
    "M.add_edge('C', 'B', relation=\"family\", weight=10)\n",
    "\n",
    "pos = nx.spring_layout(M)\n",
    "nx.draw_networkx(M, pos)\n",
    "\n",
    "# labels = nx.get_edge_attributes(M,'weight')\n",
    "# nx.draw_networkx_edge_labels(M, pos, edge_labels=labels)\n",
    "# !! draw_networkx_edge_labels does not support multiedges. !!"
   ]
  },
  {
   "cell_type": "code",
   "execution_count": 48,
   "id": "d1e263e1",
   "metadata": {},
   "outputs": [
    {
     "data": {
      "text/plain": [
       "AtlasView({0: {'relation': 'family', 'weight': 6}, 1: {'relation': 'family', 'weight': 8}})"
      ]
     },
     "execution_count": 48,
     "metadata": {},
     "output_type": "execute_result"
    }
   ],
   "source": [
    "# listing all edges between A and B\n",
    "M['A']['B']"
   ]
  },
  {
   "cell_type": "code",
   "execution_count": 52,
   "id": "3413b17c",
   "metadata": {},
   "outputs": [
    {
     "data": {
      "text/plain": [
       "5"
      ]
     },
     "execution_count": 52,
     "metadata": {},
     "output_type": "execute_result"
    }
   ],
   "source": [
    "M['A']['B'][0]['weight'] = 5\n",
    "M['A']['B'][0]['weight']"
   ]
  },
  {
   "cell_type": "markdown",
   "id": "e3dd7f94",
   "metadata": {},
   "source": [
    "### Directed Multigraph"
   ]
  },
  {
   "cell_type": "code",
   "execution_count": 56,
   "id": "5900da4c",
   "metadata": {},
   "outputs": [
    {
     "data": {
      "image/png": "[encoded data removed]",
      "text/plain": [
       "<Figure size 432x288 with 1 Axes>"
      ]
     },
     "metadata": {},
     "output_type": "display_data"
    }
   ],
   "source": [
    "DM = nx.MultiDiGraph()\n",
    "DM.add_edge('A', 'B', relation=\"family\", weight=6)\n",
    "DM.add_edge('B', 'A', relation=\"family\", weight=8)\n",
    "DM.add_edge('C', 'B', relation=\"family\", weight=10)\n",
    "\n",
    "pos = nx.spring_layout(DM)\n",
    "nx.draw_networkx(DM, pos)\n"
   ]
  },
  {
   "cell_type": "code",
   "execution_count": null,
   "id": "af32a69b",
   "metadata": {},
   "outputs": [],
   "source": []
  }
 ],
 "metadata": {
  "kernelspec": {
   "display_name": "Python 3 (ipykernel)",
   "language": "python",
   "name": "python3"
  },
  "language_info": {
   "codemirror_mode": {
    "name": "ipython",
    "version": 3
   },
   "file_extension": ".py",
   "mimetype": "text/x-python",
   "name": "python",
   "nbconvert_exporter": "python",
   "pygments_lexer": "ipython3",
   "version": "3.9.12"
  }
 },
 "nbformat": 4,
 "nbformat_minor": 5
}
