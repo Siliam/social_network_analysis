{
 "cells": [
  {
   "cell_type": "code",
   "execution_count": 17,
   "id": "db3be08c",
   "metadata": {},
   "outputs": [],
   "source": [
    "import networkx as nx\n",
    "import matplotlib.pyplot as plt\n",
    "from pyvis.network import Network\n",
    "from netgraph import Graph"
   ]
  },
  {
   "cell_type": "code",
   "execution_count": 3,
   "id": "d72c4757",
   "metadata": {},
   "outputs": [
    {
     "data": {
      "image/png": "[encoded data removed]",
      "text/plain": [
       "<Figure size 432x288 with 1 Axes>"
      ]
     },
     "metadata": {},
     "output_type": "display_data"
    }
   ],
   "source": [
    "G = nx.Graph()\n",
    "G.add_edge('A', 'B')\n",
    "\n",
    "# G.pos = nx.spring_layout(G)\n",
    "\n",
    "nx.draw_networkx(G)"
   ]
  },
  {
   "cell_type": "code",
   "execution_count": 34,
   "id": "b9a63472",
   "metadata": {},
   "outputs": [
    {
     "name": "stderr",
     "output_type": "stream",
     "text": [
      "/tmp/ipykernel_1253853/4012028106.py:9: DeprecationWarning: `alltrue` is deprecated as of NumPy 1.25.0, and will be removed in NumPy 2.0. Please use `all` instead.\n",
      "  nx.draw_networkx_edges(G, pos, edgelist=[edge], width=edge[2])\n"
     ]
    },
    {
     "data": {
      "text/plain": [
       "{('A', 'B'): Text(0.07022571478609471, 0.4707637722456877, '9th Avenue'),\n",
       " ('B', 'C'): Text(-0.07458702674044534, -0.4999999999999999, '10th Avenue')}"
      ]
     },
     "execution_count": 34,
     "metadata": {},
     "output_type": "execute_result"
    },
    {
     "data": {
      "image/png": "[encoded data removed]",
      "text/plain": [
       "<Figure size 432x288 with 1 Axes>"
      ]
     },
     "metadata": {},
     "output_type": "display_data"
    }
   ],
   "source": [
    "G = nx.Graph()\n",
    "G.add_edge('A', 'B', weight=6, relation='9th Avenue')\n",
    "G.add_edge('B', 'C', weight=10, relation='10th Avenue')\n",
    "\n",
    "pos = nx.spring_layout(G)\n",
    "nx.draw_networkx(G, pos)\n",
    "\n",
    "for edge in G.edges(data='weight'):\n",
    "    nx.draw_networkx_edges(G, pos, edgelist=[edge], width=edge[2])\n",
    "\n",
    "labels = nx.get_edge_attributes(G,'relation')\n",
    "nx.draw_networkx_edge_labels(G, pos, edge_labels=labels)"
   ]
  },
  {
   "cell_type": "code",
   "execution_count": 35,
   "id": "0a634cca",
   "metadata": {},
   "outputs": [
    {
     "name": "stdout",
     "output_type": "stream",
     "text": [
      "Warning: When  cdn_resources is 'local' jupyter notebook has issues displaying graphics on chrome/safari. Use cdn_resources='in_line' or cdn_resources='remote' if you have issues viewing graphics in a notebook.\n"
     ]
    }
   ],
   "source": [
    "net = Network('700px', '700px', notebook=True)"
   ]
  },
  {
   "cell_type": "code",
   "execution_count": 36,
   "id": "0dcabbe5",
   "metadata": {},
   "outputs": [
    {
     "data": {
      "text/plain": [
       "{('A', 'B'): 0.6, ('B', 'C'): 1.0}"
      ]
     },
     "execution_count": 36,
     "metadata": {},
     "output_type": "execute_result"
    }
   ],
   "source": [
    "edges_length = {(a, b): w/10 for a, b, w in G.edges(data='weight')}\n",
    "edges_length"
   ]
  },
  {
   "cell_type": "code",
   "execution_count": 37,
   "id": "aa8682b3",
   "metadata": {},
   "outputs": [
    {
     "name": "stderr",
     "output_type": "stream",
     "text": [
      "/home/ismail/anaconda3/lib/python3.9/site-packages/netgraph/_utils.py:360: RuntimeWarning: invalid value encountered in divide\n",
      "  v = v / np.linalg.norm(v, axis=-1)[:, None] # unit vector\n"
     ]
    },
    {
     "data": {
      "image/png": "[encoded data removed]",
      "text/plain": [
       "<Figure size 432x288 with 1 Axes>"
      ]
     },
     "metadata": {},
     "output_type": "display_data"
    }
   ],
   "source": [
    "net.from_nx(G)\n",
    "fig, ax = plt.subplots()\n",
    "\n",
    "Graph(list(edges_length.keys()), node_layout='geometric', node_layout_kwargs=dict(edge_length=edges_length), ax=ax)\n",
    "ax.set_aspect('equal')\n",
    "plt.show()"
   ]
  },
  {
   "cell_type": "code",
   "execution_count": null,
   "id": "8498e478",
   "metadata": {},
   "outputs": [],
   "source": []
  }
 ],
 "metadata": {
  "kernelspec": {
   "display_name": "Python 3 (ipykernel)",
   "language": "python",
   "name": "python3"
  },
  "language_info": {
   "codemirror_mode": {
    "name": "ipython",
    "version": 3
   },
   "file_extension": ".py",
   "mimetype": "text/x-python",
   "name": "python",
   "nbconvert_exporter": "python",
   "pygments_lexer": "ipython3",
   "version": "3.9.12"
  }
 },
 "nbformat": 4,
 "nbformat_minor": 5
}
