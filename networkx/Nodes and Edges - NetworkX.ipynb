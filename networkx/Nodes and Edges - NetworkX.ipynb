{
 "cells": [
  {
   "cell_type": "code",
   "execution_count": 6,
   "id": "6d5872c6",
   "metadata": {},
   "outputs": [
    {
     "name": "stdout",
     "output_type": "stream",
     "text": [
      "\r\n",
      "\u001b[1m[\u001b[0m\u001b[34;49mnotice\u001b[0m\u001b[1;39;49m]\u001b[0m\u001b[39;49m A new release of pip available: \u001b[0m\u001b[31;49m22.3.1\u001b[0m\u001b[39;49m -> \u001b[0m\u001b[32;49m23.1.2\u001b[0m\r\n",
      "\u001b[1m[\u001b[0m\u001b[34;49mnotice\u001b[0m\u001b[1;39;49m]\u001b[0m\u001b[39;49m To update, run: \u001b[0m\u001b[32;49mpython3 -m pip install --upgrade pip\u001b[0m\r\n"
     ]
    }
   ],
   "source": [
    "# ! pip install pyvis\n",
    "! pip install -q netgraph"
   ]
  },
  {
   "cell_type": "code",
   "execution_count": 7,
   "id": "d538801c",
   "metadata": {},
   "outputs": [
    {
     "name": "stdout",
     "output_type": "stream",
     "text": [
      "Defaulting to user installation because normal site-packages is not writeable\n",
      "Requirement already satisfied: pip in /home/ismail/.local/lib/python3.10/site-packages (22.3.1)\n",
      "Collecting pip\n",
      "  Downloading pip-23.1.2-py3-none-any.whl (2.1 MB)\n",
      "\u001b[2K     \u001b[38;2;114;156;31m━━━━━━━━━━━━━━━━━━━━━━━━━━━━━━━━━━━━━━━━\u001b[0m \u001b[32m2.1/2.1 MB\u001b[0m \u001b[31m5.6 MB/s\u001b[0m eta \u001b[36m0:00:00\u001b[0mm eta \u001b[36m0:00:01\u001b[0m[36m0:00:01\u001b[0m\n",
      "\u001b[?25hInstalling collected packages: pip\n",
      "  Attempting uninstall: pip\n",
      "    Found existing installation: pip 22.3.1\n",
      "    Uninstalling pip-22.3.1:\n",
      "      Successfully uninstalled pip-22.3.1\n",
      "Successfully installed pip-23.1.2\n"
     ]
    }
   ],
   "source": [
    "! python3 -m pip install --upgrade pip"
   ]
  },
  {
   "cell_type": "code",
   "execution_count": 8,
   "id": "fbec91c4",
   "metadata": {},
   "outputs": [],
   "source": [
    "import networkx as nx\n",
    "import matplotlib.pyplot as plt\n",
    "from pyvis.network import Network\n",
    "from netgraph import Graph"
   ]
  },
  {
   "cell_type": "markdown",
   "id": "ab8ba68e",
   "metadata": {},
   "source": [
    "# Undirected Graphs"
   ]
  },
  {
   "cell_type": "code",
   "execution_count": 9,
   "id": "d72c4757",
   "metadata": {},
   "outputs": [
    {
     "data": {
      "image/png": "[encoded data removed]",
      "text/plain": [
       "<Figure size 432x288 with 1 Axes>"
      ]
     },
     "metadata": {},
     "output_type": "display_data"
    }
   ],
   "source": [
    "G = nx.Graph()\n",
    "G.add_edge('A', 'B')\n",
    "\n",
    "# G.pos = nx.spring_layout(G)\n",
    "\n",
    "nx.draw_networkx(G)"
   ]
  },
  {
   "cell_type": "code",
   "execution_count": 10,
   "id": "54ea16b9",
   "metadata": {},
   "outputs": [
    {
     "data": {
      "text/plain": [
       "NodeView(('A', 'B'))"
      ]
     },
     "execution_count": 10,
     "metadata": {},
     "output_type": "execute_result"
    }
   ],
   "source": [
    "G.nodes() # automatically added"
   ]
  },
  {
   "cell_type": "code",
   "execution_count": 11,
   "id": "3fd0932b",
   "metadata": {},
   "outputs": [
    {
     "data": {
      "text/plain": [
       "EdgeView([('A', 'B')])"
      ]
     },
     "execution_count": 11,
     "metadata": {},
     "output_type": "execute_result"
    }
   ],
   "source": [
    "G.edges()"
   ]
  },
  {
   "cell_type": "code",
   "execution_count": 12,
   "id": "96b43e81",
   "metadata": {},
   "outputs": [
    {
     "data": {
      "text/plain": [
       "[('A', 'B')]"
      ]
     },
     "execution_count": 12,
     "metadata": {},
     "output_type": "execute_result"
    }
   ],
   "source": [
    "list(G.edges())"
   ]
  },
  {
   "cell_type": "markdown",
   "id": "96a35958",
   "metadata": {},
   "source": [
    "### Adding and removing edges weight"
   ]
  },
  {
   "cell_type": "code",
   "execution_count": 13,
   "id": "83b8f7be",
   "metadata": {},
   "outputs": [
    {
     "data": {
      "text/plain": [
       "EdgeView([('A', 'B')])"
      ]
     },
     "execution_count": 13,
     "metadata": {},
     "output_type": "execute_result"
    }
   ],
   "source": [
    "G.add_edge('A', 'B', weight=6)\n",
    "G.edges()"
   ]
  },
  {
   "cell_type": "code",
   "execution_count": 14,
   "id": "916ddd59",
   "metadata": {},
   "outputs": [
    {
     "data": {
      "text/plain": [
       "EdgeDataView([('A', 'B', {'weight': 6})])"
      ]
     },
     "execution_count": 14,
     "metadata": {},
     "output_type": "execute_result"
    }
   ],
   "source": [
    "G.edges(data=True)"
   ]
  },
  {
   "cell_type": "code",
   "execution_count": 15,
   "id": "186a03ff",
   "metadata": {},
   "outputs": [
    {
     "data": {
      "text/plain": [
       "{'weight': 6}"
      ]
     },
     "execution_count": 15,
     "metadata": {},
     "output_type": "execute_result"
    }
   ],
   "source": [
    "G.edges['A', 'B']"
   ]
  },
  {
   "cell_type": "code",
   "execution_count": 16,
   "id": "e5786398",
   "metadata": {},
   "outputs": [
    {
     "data": {
      "text/plain": [
       "{'weight': 6}"
      ]
     },
     "execution_count": 16,
     "metadata": {},
     "output_type": "execute_result"
    }
   ],
   "source": [
    "G.edges['B', 'A']"
   ]
  },
  {
   "cell_type": "code",
   "execution_count": 17,
   "id": "878e61a8",
   "metadata": {},
   "outputs": [
    {
     "data": {
      "text/plain": [
       "AtlasView({'B': {'weight': 6}})"
      ]
     },
     "execution_count": 17,
     "metadata": {},
     "output_type": "execute_result"
    }
   ],
   "source": [
    "G['A']"
   ]
  },
  {
   "cell_type": "code",
   "execution_count": 47,
   "id": "b5f64ea1",
   "metadata": {},
   "outputs": [],
   "source": [
    "G.add_edge('A', 'D', weight=62)"
   ]
  },
  {
   "cell_type": "code",
   "execution_count": 48,
   "id": "aa2e1fa1",
   "metadata": {},
   "outputs": [],
   "source": [
    "G.remove_edge('A', 'D')"
   ]
  },
  {
   "cell_type": "markdown",
   "id": "70c4b4ae",
   "metadata": {},
   "source": [
    "### Adding edge attributes"
   ]
  },
  {
   "cell_type": "code",
   "execution_count": 18,
   "id": "23740c24",
   "metadata": {},
   "outputs": [
    {
     "data": {
      "text/plain": [
       "EdgeView([('A', 'B'), ('B', 'C')])"
      ]
     },
     "execution_count": 18,
     "metadata": {},
     "output_type": "execute_result"
    }
   ],
   "source": [
    "G.add_edge('B', 'C', relation='bridge')\n",
    "G.edges()"
   ]
  },
  {
   "cell_type": "code",
   "execution_count": 19,
   "id": "bd92718b",
   "metadata": {},
   "outputs": [
    {
     "data": {
      "text/plain": [
       "{'relation': 'bridge'}"
      ]
     },
     "execution_count": 19,
     "metadata": {},
     "output_type": "execute_result"
    }
   ],
   "source": [
    "G.edges['B', 'C']"
   ]
  },
  {
   "cell_type": "markdown",
   "id": "b8a508ec",
   "metadata": {},
   "source": [
    "### Visualize weights and attributes"
   ]
  },
  {
   "cell_type": "code",
   "execution_count": 23,
   "id": "b9a63472",
   "metadata": {},
   "outputs": [
    {
     "data": {
      "text/plain": [
       "{('A', 'B'): Text(-0.47164162410334265, 0.4001986861539593, '9th Avenue'),\n",
       " ('B', 'C'): Text(0.5000000000000001, -0.4242614155619127, '10th Avenue')}"
      ]
     },
     "execution_count": 23,
     "metadata": {},
     "output_type": "execute_result"
    },
    {
     "data": {
      "image/png": "[encoded data removed]",
      "text/plain": [
       "<Figure size 432x288 with 1 Axes>"
      ]
     },
     "metadata": {},
     "output_type": "display_data"
    }
   ],
   "source": [
    "G = nx.Graph()\n",
    "G.add_edge('A', 'B', weight=6, relation='9th Avenue')\n",
    "G.add_edge('B', 'C', weight=10, relation='10th Avenue')\n",
    "\n",
    "pos = nx.spring_layout(G)\n",
    "nx.draw_networkx(G, pos)\n",
    "\n",
    "for edge in G.edges(data='weight'):\n",
    "    nx.draw_networkx_edges(G, pos, edgelist=[edge], width=edge[2])\n",
    "\n",
    "labels = nx.get_edge_attributes(G,'relation')\n",
    "nx.draw_networkx_edge_labels(G, pos, edge_labels=labels)"
   ]
  },
  {
   "cell_type": "code",
   "execution_count": 24,
   "id": "0a634cca",
   "metadata": {},
   "outputs": [
    {
     "name": "stdout",
     "output_type": "stream",
     "text": [
      "Warning: When  cdn_resources is 'local' jupyter notebook has issues displaying graphics on chrome/safari. Use cdn_resources='in_line' or cdn_resources='remote' if you have issues viewing graphics in a notebook.\n"
     ]
    }
   ],
   "source": [
    "net = Network('700px', '700px', notebook=True)"
   ]
  },
  {
   "cell_type": "code",
   "execution_count": 25,
   "id": "0dcabbe5",
   "metadata": {},
   "outputs": [
    {
     "data": {
      "text/plain": [
       "{('A', 'B'): 0.6, ('B', 'C'): 1.0}"
      ]
     },
     "execution_count": 25,
     "metadata": {},
     "output_type": "execute_result"
    }
   ],
   "source": [
    "edges_length = {(a, b): w/10 for a, b, w in G.edges(data='weight')}\n",
    "edges_length"
   ]
  },
  {
   "cell_type": "markdown",
   "id": "6065ef66",
   "metadata": {},
   "source": [
    "### Visualizing Distance (with netgraph)"
   ]
  },
  {
   "cell_type": "code",
   "execution_count": 26,
   "id": "aa8682b3",
   "metadata": {},
   "outputs": [
    {
     "name": "stderr",
     "output_type": "stream",
     "text": [
      "/home/ismail/.local/lib/python3.10/site-packages/netgraph/_utils.py:360: RuntimeWarning: invalid value encountered in divide\n",
      "  v = v / np.linalg.norm(v, axis=-1)[:, None] # unit vector\n"
     ]
    },
    {
     "data": {
      "image/png": "[encoded data removed]",
      "text/plain": [
       "<Figure size 432x288 with 1 Axes>"
      ]
     },
     "metadata": {},
     "output_type": "display_data"
    }
   ],
   "source": [
    "net.from_nx(G)\n",
    "fig, ax = plt.subplots()\n",
    "\n",
    "Graph(list(edges_length.keys()), node_layout='geometric', node_layout_kwargs=dict(edge_length=edges_length), ax=ax)\n",
    "ax.set_aspect('equal')\n",
    "plt.show()"
   ]
  },
  {
   "cell_type": "markdown",
   "id": "da3be215",
   "metadata": {},
   "source": [
    "### Adding node properties"
   ]
  },
  {
   "cell_type": "code",
   "execution_count": 38,
   "id": "e97dd81c",
   "metadata": {},
   "outputs": [],
   "source": [
    "G.add_node('A', role=\"President\")"
   ]
  },
  {
   "cell_type": "code",
   "execution_count": 39,
   "id": "bb8f6d00",
   "metadata": {},
   "outputs": [
    {
     "data": {
      "text/plain": [
       "NodeDataView({'A': {'size': 10, 'country': 'Morocco', 'role': 'President'}, 'B': {'size': 10}, 'C': {'size': 10}})"
      ]
     },
     "execution_count": 39,
     "metadata": {},
     "output_type": "execute_result"
    }
   ],
   "source": [
    "G.nodes(data=True)"
   ]
  },
  {
   "cell_type": "code",
   "execution_count": 40,
   "id": "0aa5f8a7",
   "metadata": {},
   "outputs": [
    {
     "data": {
      "text/plain": [
       "AtlasView({'B': {'relation': '9th Avenue', 'width': 6}})"
      ]
     },
     "execution_count": 40,
     "metadata": {},
     "output_type": "execute_result"
    }
   ],
   "source": [
    "G['A']"
   ]
  },
  {
   "cell_type": "code",
   "execution_count": 41,
   "id": "fce1e7bd",
   "metadata": {},
   "outputs": [],
   "source": [
    "G.add_node('A', country=\"Morocco\")"
   ]
  },
  {
   "cell_type": "code",
   "execution_count": 42,
   "id": "b1c5f476",
   "metadata": {},
   "outputs": [
    {
     "data": {
      "text/plain": [
       "{'size': 10, 'country': 'Morocco', 'role': 'President'}"
      ]
     },
     "execution_count": 42,
     "metadata": {},
     "output_type": "execute_result"
    }
   ],
   "source": [
    "G.nodes(data=True)['A']"
   ]
  },
  {
   "cell_type": "markdown",
   "id": "1c0965ff",
   "metadata": {},
   "source": [
    "# Directed Graphs"
   ]
  },
  {
   "cell_type": "code",
   "execution_count": 27,
   "id": "4ef66ac8",
   "metadata": {},
   "outputs": [
    {
     "data": {
      "image/png": "[encoded data removed]",
      "text/plain": [
       "<Figure size 432x288 with 1 Axes>"
      ]
     },
     "metadata": {},
     "output_type": "display_data"
    }
   ],
   "source": [
    "D = nx.DiGraph()\n",
    "D.add_edge('A', 'B')\n",
    "D.add_edge('B', 'C')\n",
    "\n",
    "nx.draw_networkx(D)"
   ]
  },
  {
   "cell_type": "code",
   "execution_count": 28,
   "id": "865cbb6b",
   "metadata": {},
   "outputs": [
    {
     "data": {
      "text/plain": [
       "True"
      ]
     },
     "execution_count": 28,
     "metadata": {},
     "output_type": "execute_result"
    }
   ],
   "source": [
    "('A', 'B') in D.edges()"
   ]
  },
  {
   "cell_type": "code",
   "execution_count": 29,
   "id": "3c34df0b",
   "metadata": {},
   "outputs": [
    {
     "data": {
      "text/plain": [
       "False"
      ]
     },
     "execution_count": 29,
     "metadata": {},
     "output_type": "execute_result"
    }
   ],
   "source": [
    "('B', 'A') in D.edges()"
   ]
  },
  {
   "cell_type": "code",
   "execution_count": 30,
   "id": "20a2850e",
   "metadata": {},
   "outputs": [
    {
     "data": {
      "text/plain": [
       "OutEdgeView([('A', 'B'), ('B', 'C')])"
      ]
     },
     "execution_count": 30,
     "metadata": {},
     "output_type": "execute_result"
    }
   ],
   "source": [
    "D.edges()"
   ]
  },
  {
   "cell_type": "markdown",
   "id": "191220c0",
   "metadata": {},
   "source": [
    "## Multigraphs"
   ]
  },
  {
   "cell_type": "markdown",
   "id": "3e52e445",
   "metadata": {},
   "source": [
    "Multigraphs are graphs that can have multiple edges between the same nodes"
   ]
  },
  {
   "cell_type": "code",
   "execution_count": 31,
   "id": "0675fc9e",
   "metadata": {},
   "outputs": [
    {
     "data": {
      "image/png": "[encoded data removed]",
      "text/plain": [
       "<Figure size 432x288 with 1 Axes>"
      ]
     },
     "metadata": {},
     "output_type": "display_data"
    }
   ],
   "source": [
    "M = nx.MultiGraph()\n",
    "M.add_edge('A', 'B', relation=\"family\", weight=6)\n",
    "M.add_edge('B', 'A', relation=\"family\", weight=8)\n",
    "M.add_edge('C', 'B', relation=\"family\", weight=10)\n",
    "\n",
    "pos = nx.spring_layout(M)\n",
    "nx.draw_networkx(M, pos)\n",
    "\n",
    "# labels = nx.get_edge_attributes(M,'weight')\n",
    "# nx.draw_networkx_edge_labels(M, pos, edge_labels=labels)\n",
    "# !! draw_networkx_edge_labels does not support multiedges. !!"
   ]
  },
  {
   "cell_type": "code",
   "execution_count": 32,
   "id": "d1e263e1",
   "metadata": {},
   "outputs": [
    {
     "data": {
      "text/plain": [
       "AtlasView({0: {'relation': 'family', 'weight': 6}, 1: {'relation': 'family', 'weight': 8}})"
      ]
     },
     "execution_count": 32,
     "metadata": {},
     "output_type": "execute_result"
    }
   ],
   "source": [
    "# listing all edges between A and B\n",
    "M['A']['B']"
   ]
  },
  {
   "cell_type": "code",
   "execution_count": 33,
   "id": "3413b17c",
   "metadata": {},
   "outputs": [
    {
     "data": {
      "text/plain": [
       "5"
      ]
     },
     "execution_count": 33,
     "metadata": {},
     "output_type": "execute_result"
    }
   ],
   "source": [
    "M['A']['B'][0]['weight'] = 5\n",
    "M['A']['B'][0]['weight']"
   ]
  },
  {
   "cell_type": "markdown",
   "id": "e3dd7f94",
   "metadata": {},
   "source": [
    "### Directed Multigraph"
   ]
  },
  {
   "cell_type": "code",
   "execution_count": 34,
   "id": "5900da4c",
   "metadata": {},
   "outputs": [
    {
     "data": {
      "image/png": "[encoded data removed]",
      "text/plain": [
       "<Figure size 432x288 with 1 Axes>"
      ]
     },
     "metadata": {},
     "output_type": "display_data"
    }
   ],
   "source": [
    "DM = nx.MultiDiGraph()\n",
    "DM.add_edge('A', 'B', relation=\"family\", weight=6)\n",
    "DM.add_edge('B', 'A', relation=\"family\", weight=8)\n",
    "DM.add_edge('C', 'B', relation=\"family\", weight=10)\n",
    "\n",
    "pos = nx.spring_layout(DM)\n",
    "nx.draw_networkx(DM, pos)\n"
   ]
  },
  {
   "cell_type": "markdown",
   "id": "b2a2909c",
   "metadata": {},
   "source": [
    "# Bipartite Graphs"
   ]
  },
  {
   "cell_type": "markdown",
   "id": "628dae88",
   "metadata": {},
   "source": [
    "A graph whose nodes can be split into two sets L and R such that every edge connects a node in L to a node in R\n",
    "\n",
    "Eg. \"Categories\" (companies and workers, movies and directors, teams and fans..)"
   ]
  },
  {
   "cell_type": "code",
   "execution_count": 45,
   "id": "14621f22",
   "metadata": {},
   "outputs": [
    {
     "data": {
      "image/png": "[encoded data removed]",
      "text/plain": [
       "<Figure size 432x288 with 1 Axes>"
      ]
     },
     "metadata": {},
     "output_type": "display_data"
    }
   ],
   "source": [
    "B = nx.Graph()\n",
    "B.add_nodes_from(['A', 'B', 'C', 'D'], bipartite='L')\n",
    "B.add_nodes_from(['1', '2', '3', '4'], bipartite='R')\n",
    "B.add_edges_from([('A', '1'), ('B', '1'), ('C', '1'), ('C', '2'), ('D', '3')])\n",
    "\n",
    "nx.draw_networkx(B)"
   ]
  },
  {
   "cell_type": "markdown",
   "id": "46382e53",
   "metadata": {},
   "source": [
    "<div class=\"alert alert-block alert-info\"> You can study bipartite graphs by importing <b>bipartite</b> from <u>networkx.algorithms</u>.</div>"
   ]
  },
  {
   "cell_type": "code",
   "execution_count": 60,
   "id": "cd6fa8a9",
   "metadata": {},
   "outputs": [
    {
     "data": {
      "text/plain": [
       "True"
      ]
     },
     "execution_count": 60,
     "metadata": {},
     "output_type": "execute_result"
    }
   ],
   "source": [
    "nx.bipartite.is_bipartite(B)"
   ]
  },
  {
   "cell_type": "code",
   "execution_count": 49,
   "id": "28b51dd6",
   "metadata": {},
   "outputs": [
    {
     "data": {
      "text/plain": [
       "True"
      ]
     },
     "execution_count": 49,
     "metadata": {},
     "output_type": "execute_result"
    }
   ],
   "source": [
    "nx.bipartite.is_bipartite_node_set(B, ['A', 'B', 'C', 'D'])"
   ]
  },
  {
   "cell_type": "code",
   "execution_count": 50,
   "id": "37f361ad",
   "metadata": {},
   "outputs": [
    {
     "data": {
      "text/plain": [
       "False"
      ]
     },
     "execution_count": 50,
     "metadata": {},
     "output_type": "execute_result"
    }
   ],
   "source": [
    "nx.bipartite.is_bipartite_node_set(B, ['A', 'B', 'C'])"
   ]
  },
  {
   "cell_type": "code",
   "execution_count": 51,
   "id": "8af4d672",
   "metadata": {},
   "outputs": [
    {
     "data": {
      "text/plain": [
       "True"
      ]
     },
     "execution_count": 51,
     "metadata": {},
     "output_type": "execute_result"
    }
   ],
   "source": [
    "nx.bipartite.is_bipartite_node_set(B, ['A', 'B', 'C', 'D', '4'])"
   ]
  },
  {
   "cell_type": "code",
   "execution_count": 52,
   "id": "2d3e2d79",
   "metadata": {},
   "outputs": [
    {
     "ename": "AmbiguousSolution",
     "evalue": "Disconnected graph: Ambiguous solution for bipartite sets.",
     "output_type": "error",
     "traceback": [
      "\u001b[0;31m---------------------------------------------------------------------------\u001b[0m",
      "\u001b[0;31mAmbiguousSolution\u001b[0m                         Traceback (most recent call last)",
      "Input \u001b[0;32mIn [52]\u001b[0m, in \u001b[0;36m<cell line: 1>\u001b[0;34m()\u001b[0m\n\u001b[0;32m----> 1\u001b[0m \u001b[43mnx\u001b[49m\u001b[38;5;241;43m.\u001b[39;49m\u001b[43mbipartite\u001b[49m\u001b[38;5;241;43m.\u001b[39;49m\u001b[43msets\u001b[49m\u001b[43m(\u001b[49m\u001b[43mB\u001b[49m\u001b[43m)\u001b[49m\n",
      "File \u001b[0;32m~/.local/lib/python3.10/site-packages/networkx/algorithms/bipartite/basic.py:213\u001b[0m, in \u001b[0;36msets\u001b[0;34m(G, top_nodes)\u001b[0m\n\u001b[1;32m    211\u001b[0m \u001b[38;5;28;01mif\u001b[39;00m \u001b[38;5;129;01mnot\u001b[39;00m is_connected(G):\n\u001b[1;32m    212\u001b[0m     msg \u001b[38;5;241m=\u001b[39m \u001b[38;5;124m\"\u001b[39m\u001b[38;5;124mDisconnected graph: Ambiguous solution for bipartite sets.\u001b[39m\u001b[38;5;124m\"\u001b[39m\n\u001b[0;32m--> 213\u001b[0m     \u001b[38;5;28;01mraise\u001b[39;00m nx\u001b[38;5;241m.\u001b[39mAmbiguousSolution(msg)\n\u001b[1;32m    214\u001b[0m c \u001b[38;5;241m=\u001b[39m color(G)\n\u001b[1;32m    215\u001b[0m X \u001b[38;5;241m=\u001b[39m {n \u001b[38;5;28;01mfor\u001b[39;00m n, is_top \u001b[38;5;129;01min\u001b[39;00m c\u001b[38;5;241m.\u001b[39mitems() \u001b[38;5;28;01mif\u001b[39;00m is_top}\n",
      "\u001b[0;31mAmbiguousSolution\u001b[0m: Disconnected graph: Ambiguous solution for bipartite sets."
     ]
    }
   ],
   "source": [
    "nx.bipartite.sets(B)"
   ]
  },
  {
   "cell_type": "code",
   "execution_count": 57,
   "id": "b505fa23",
   "metadata": {},
   "outputs": [],
   "source": [
    "B.add_edge('D', '4')\n",
    "B.add_edge('C', '4')"
   ]
  },
  {
   "cell_type": "code",
   "execution_count": 58,
   "id": "325e87a8",
   "metadata": {},
   "outputs": [
    {
     "data": {
      "text/plain": [
       "False"
      ]
     },
     "execution_count": 58,
     "metadata": {},
     "output_type": "execute_result"
    }
   ],
   "source": [
    "nx.bipartite.is_bipartite_node_set(B, ['A', 'B', 'C', 'D', '4'])"
   ]
  },
  {
   "cell_type": "code",
   "execution_count": 59,
   "id": "e6a2b3a7",
   "metadata": {},
   "outputs": [
    {
     "data": {
      "text/plain": [
       "({'A', 'B', 'C', 'D'}, {'1', '2', '3', '4'})"
      ]
     },
     "execution_count": 59,
     "metadata": {},
     "output_type": "execute_result"
    }
   ],
   "source": [
    "nx.bipartite.sets(B)"
   ]
  },
  {
   "cell_type": "markdown",
   "id": "ec2cec72",
   "metadata": {},
   "source": [
    "### Bipartite Graph projection"
   ]
  },
  {
   "cell_type": "code",
   "execution_count": null,
   "id": "56060dcc",
   "metadata": {},
   "outputs": [],
   "source": []
  }
 ],
 "metadata": {
  "kernelspec": {
   "display_name": "Python 3 (ipykernel)",
   "language": "python",
   "name": "python3"
  },
  "language_info": {
   "codemirror_mode": {
    "name": "ipython",
    "version": 3
   },
   "file_extension": ".py",
   "mimetype": "text/x-python",
   "name": "python",
   "nbconvert_exporter": "python",
   "pygments_lexer": "ipython3",
   "version": "3.10.6"
  }
 },
 "nbformat": 4,
 "nbformat_minor": 5
}
