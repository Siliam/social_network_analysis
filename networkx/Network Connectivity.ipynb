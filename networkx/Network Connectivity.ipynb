{
 "cells": [
  {
   "cell_type": "code",
   "execution_count": 2,
   "id": "b000c032",
   "metadata": {},
   "outputs": [],
   "source": [
    "import networkx as nx\n",
    "import matplotlib.pyplot as plt\n",
    "from pyvis.network import Network\n",
    "from netgraph import Graph\n",
    "\n",
    "import numpy as np\n",
    "import pandas as pd"
   ]
  },
  {
   "cell_type": "markdown",
   "id": "1c3831b4",
   "metadata": {},
   "source": [
    "# Clustering Coefficients"
   ]
  },
  {
   "cell_type": "markdown",
   "id": "f5fe088c",
   "metadata": {},
   "source": [
    "**Triad closure:** Tendency for people sharing connectings in a social network to become connected\n",
    "\n",
    "Used for Edge prediction: edges that close triangles are likely to appear in a future time step mbut how about untimed or static networks?)"
   ]
  },
  {
   "cell_type": "markdown",
   "id": "8492041d",
   "metadata": {},
   "source": [
    "**Local clustering coefficient (of a node) / LLC:** Fraction of pairs of the node's friends that are friends with each other \n",
    "\n",
    "= # of pairs of C's friends who are friends / # of pairs of C's friends"
   ]
  },
  {
   "cell_type": "code",
   "execution_count": 3,
   "id": "e48345cc",
   "metadata": {},
   "outputs": [],
   "source": [
    "G = nx.Graph()\n",
    "\n",
    "G.add_edges_from([('A', 'K'), ('A', 'B'), ('A', 'C'), ('B', 'C'), ('B', 'K'), ('C', 'E'), ('C', 'F'), ('D', 'E'), ('E', 'F'), ('E', 'H'), ('F', 'G'), ('I', 'J')])"
   ]
  },
  {
   "cell_type": "code",
   "execution_count": 4,
   "id": "234b1019",
   "metadata": {},
   "outputs": [
    {
     "data": {
      "image/png": "[encoded data removed]",
      "text/plain": [
       "<Figure size 432x288 with 1 Axes>"
      ]
     },
     "metadata": {},
     "output_type": "display_data"
    }
   ],
   "source": [
    "nx.draw_networkx(G)"
   ]
  },
  {
   "cell_type": "markdown",
   "id": "29492168",
   "metadata": {},
   "source": [
    "Use `nx.clustering` to compute a node's local clustering coefficient"
   ]
  },
  {
   "cell_type": "code",
   "execution_count": 5,
   "id": "6d129aab",
   "metadata": {},
   "outputs": [
    {
     "data": {
      "text/plain": [
       "(0.3333333333333333, 0.16666666666666666, 0.6666666666666666, 0)"
      ]
     },
     "execution_count": 5,
     "metadata": {},
     "output_type": "execute_result"
    }
   ],
   "source": [
    "nx.clustering(G, 'F'), nx.clustering(G, 'E'), nx.clustering(G, 'A'), nx.clustering(G, 'I')"
   ]
  },
  {
   "cell_type": "markdown",
   "id": "cb29bfd7",
   "metadata": {},
   "source": [
    "Measuring clustering over a network:\n",
    "* Averaging the local clustering coefficient of each node\n",
    "* Counting the percentage of \"open triads\" in the network (3 nodes that have two edges among them)"
   ]
  },
  {
   "cell_type": "markdown",
   "id": "91b758cd",
   "metadata": {},
   "source": [
    "**Transitivity**: 3 * number of closed triads / number of open triads"
   ]
  },
  {
   "cell_type": "code",
   "execution_count": 6,
   "id": "41992f94",
   "metadata": {},
   "outputs": [
    {
     "data": {
      "text/plain": [
       "0.4090909090909091"
      ]
     },
     "execution_count": 6,
     "metadata": {},
     "output_type": "execute_result"
    }
   ],
   "source": [
    "nx.transitivity(G)"
   ]
  },
  {
   "cell_type": "markdown",
   "id": "9001a48b",
   "metadata": {},
   "source": [
    "<div class=\"alert alert-info\">\n",
    "Both Transitivity and Average Clustering Coefficient measure the tendency for edges to form triangles. Transitivity weighs nodes with large degress higher\n",
    "</div>"
   ]
  },
  {
   "cell_type": "markdown",
   "id": "9fa035c8",
   "metadata": {},
   "source": [
    "<img src='img/transitivity_vs_acc.png'>"
   ]
  },
  {
   "cell_type": "markdown",
   "id": "9cfd661a",
   "metadata": {},
   "source": [
    "# Distance "
   ]
  },
  {
   "cell_type": "markdown",
   "id": "d6ded71b",
   "metadata": {},
   "source": [
    "## Distance between nodes"
   ]
  },
  {
   "cell_type": "markdown",
   "id": "79376787",
   "metadata": {},
   "source": [
    "- Path: a sequence of nodes connected by an edge (length of a path = number of edges)\n",
    "- Distance between two nodes = shortest path between 2 nodes"
   ]
  },
  {
   "cell_type": "code",
   "execution_count": 7,
   "id": "cf7999f4",
   "metadata": {},
   "outputs": [
    {
     "data": {
      "text/plain": [
       "['D', 'E', 'C', 'A', 'K']"
      ]
     },
     "execution_count": 7,
     "metadata": {},
     "output_type": "execute_result"
    }
   ],
   "source": [
    "nx.shortest_path(G, 'D', 'K')"
   ]
  },
  {
   "cell_type": "code",
   "execution_count": 8,
   "id": "3273fcc7",
   "metadata": {},
   "outputs": [
    {
     "data": {
      "text/plain": [
       "4"
      ]
     },
     "execution_count": 8,
     "metadata": {},
     "output_type": "execute_result"
    }
   ],
   "source": [
    "nx.shortest_path_length(G, 'D', 'K')"
   ]
  },
  {
   "cell_type": "markdown",
   "id": "75cd7214",
   "metadata": {},
   "source": [
    "- Distance from one node to all nodes: BFS!"
   ]
  },
  {
   "cell_type": "code",
   "execution_count": 9,
   "id": "1d07ed41",
   "metadata": {},
   "outputs": [
    {
     "data": {
      "text/plain": [
       "<networkx.classes.digraph.DiGraph at 0x7f3cfb60df30>"
      ]
     },
     "execution_count": 9,
     "metadata": {},
     "output_type": "execute_result"
    }
   ],
   "source": [
    "T = nx.bfs_tree(G, 'A')\n",
    "T"
   ]
  },
  {
   "cell_type": "code",
   "execution_count": 10,
   "id": "236d60a1",
   "metadata": {},
   "outputs": [
    {
     "data": {
      "image/png": "[encoded data removed]",
      "text/plain": [
       "<Figure size 432x288 with 1 Axes>"
      ]
     },
     "metadata": {},
     "output_type": "display_data"
    }
   ],
   "source": [
    "nx.draw_networkx(T)"
   ]
  },
  {
   "cell_type": "code",
   "execution_count": 11,
   "id": "1d84f8ed",
   "metadata": {},
   "outputs": [
    {
     "data": {
      "text/plain": [
       "{'D': 0, 'E': 1, 'H': 2, 'C': 2, 'F': 2, 'G': 3, 'B': 3, 'A': 3, 'K': 4}"
      ]
     },
     "execution_count": 11,
     "metadata": {},
     "output_type": "execute_result"
    }
   ],
   "source": [
    "nx.shortest_path_length(G, 'D')"
   ]
  },
  {
   "cell_type": "markdown",
   "id": "8ff1057a",
   "metadata": {},
   "source": [
    "## Distance to measure Graph Connectivity"
   ]
  },
  {
   "cell_type": "code",
   "execution_count": 12,
   "id": "1a8598bd",
   "metadata": {
    "scrolled": true
   },
   "outputs": [
    {
     "ename": "NetworkXError",
     "evalue": "Graph is not connected.",
     "output_type": "error",
     "traceback": [
      "\u001b[0;31m---------------------------------------------------------------------------\u001b[0m",
      "\u001b[0;31mNetworkXError\u001b[0m                             Traceback (most recent call last)",
      "Input \u001b[0;32mIn [12]\u001b[0m, in \u001b[0;36m<cell line: 1>\u001b[0;34m()\u001b[0m\n\u001b[0;32m----> 1\u001b[0m \u001b[43mnx\u001b[49m\u001b[38;5;241;43m.\u001b[39;49m\u001b[43maverage_shortest_path_length\u001b[49m\u001b[43m(\u001b[49m\u001b[43mG\u001b[49m\u001b[43m)\u001b[49m\n",
      "File \u001b[0;32m~/.local/lib/python3.10/site-packages/networkx/algorithms/shortest_paths/generic.py:404\u001b[0m, in \u001b[0;36maverage_shortest_path_length\u001b[0;34m(G, weight, method)\u001b[0m\n\u001b[1;32m    402\u001b[0m     \u001b[38;5;28;01mraise\u001b[39;00m nx\u001b[38;5;241m.\u001b[39mNetworkXError(\u001b[38;5;124m\"\u001b[39m\u001b[38;5;124mGraph is not weakly connected.\u001b[39m\u001b[38;5;124m\"\u001b[39m)\n\u001b[1;32m    403\u001b[0m \u001b[38;5;28;01mif\u001b[39;00m \u001b[38;5;129;01mnot\u001b[39;00m G\u001b[38;5;241m.\u001b[39mis_directed() \u001b[38;5;129;01mand\u001b[39;00m \u001b[38;5;129;01mnot\u001b[39;00m nx\u001b[38;5;241m.\u001b[39mis_connected(G):\n\u001b[0;32m--> 404\u001b[0m     \u001b[38;5;28;01mraise\u001b[39;00m nx\u001b[38;5;241m.\u001b[39mNetworkXError(\u001b[38;5;124m\"\u001b[39m\u001b[38;5;124mGraph is not connected.\u001b[39m\u001b[38;5;124m\"\u001b[39m)\n\u001b[1;32m    406\u001b[0m \u001b[38;5;66;03m# Compute all-pairs shortest paths.\u001b[39;00m\n\u001b[1;32m    407\u001b[0m \u001b[38;5;28;01mdef\u001b[39;00m \u001b[38;5;21mpath_length\u001b[39m(v):\n",
      "\u001b[0;31mNetworkXError\u001b[0m: Graph is not connected."
     ]
    }
   ],
   "source": [
    "nx.average_shortest_path_length(G)"
   ]
  },
  {
   "cell_type": "markdown",
   "id": "8d645ae4",
   "metadata": {},
   "source": [
    "**Periphery :** nodes that have eccentricity == diameter\n",
    "\n",
    "**Center :** nodes that have eccentricity == radius\n",
    "\n",
    "**Diameter :** maximum distance in the graph\n",
    "\n",
    "**Radius :** minimum distance in the graph\n",
    "\n",
    "**Eccentricity :** Length of the longest short path starting from a node"
   ]
  },
  {
   "cell_type": "code",
   "execution_count": 13,
   "id": "36e16107",
   "metadata": {},
   "outputs": [],
   "source": [
    "G.add_edge('G', 'I')"
   ]
  },
  {
   "cell_type": "code",
   "execution_count": 14,
   "id": "cea085fa",
   "metadata": {},
   "outputs": [
    {
     "data": {
      "text/plain": [
       "2.672727272727273"
      ]
     },
     "execution_count": 14,
     "metadata": {},
     "output_type": "execute_result"
    }
   ],
   "source": [
    "nx.average_shortest_path_length(G)"
   ]
  },
  {
   "cell_type": "markdown",
   "id": "6074f398",
   "metadata": {},
   "source": [
    "### Eccentricity"
   ]
  },
  {
   "cell_type": "code",
   "execution_count": 15,
   "id": "8b5746ba",
   "metadata": {},
   "outputs": [
    {
     "data": {
      "text/plain": [
       "6"
      ]
     },
     "execution_count": 15,
     "metadata": {},
     "output_type": "execute_result"
    }
   ],
   "source": [
    "nx.diameter(G)"
   ]
  },
  {
   "cell_type": "code",
   "execution_count": 16,
   "id": "aa2a2f3d",
   "metadata": {},
   "outputs": [
    {
     "data": {
      "text/plain": [
       "3"
      ]
     },
     "execution_count": 16,
     "metadata": {},
     "output_type": "execute_result"
    }
   ],
   "source": [
    "nx.radius(G)"
   ]
  },
  {
   "cell_type": "code",
   "execution_count": 17,
   "id": "2298de60",
   "metadata": {},
   "outputs": [
    {
     "data": {
      "text/plain": [
       "5"
      ]
     },
     "execution_count": 17,
     "metadata": {},
     "output_type": "execute_result"
    }
   ],
   "source": [
    "nx.eccentricity(G, 'A') "
   ]
  },
  {
   "cell_type": "code",
   "execution_count": 18,
   "id": "a2f94806",
   "metadata": {},
   "outputs": [
    {
     "data": {
      "text/plain": [
       "{'A': 5,\n",
       " 'K': 6,\n",
       " 'B': 5,\n",
       " 'C': 4,\n",
       " 'E': 4,\n",
       " 'F': 3,\n",
       " 'D': 5,\n",
       " 'H': 5,\n",
       " 'G': 4,\n",
       " 'I': 5,\n",
       " 'J': 6}"
      ]
     },
     "execution_count": 18,
     "metadata": {},
     "output_type": "execute_result"
    }
   ],
   "source": [
    "nx.eccentricity(G)"
   ]
  },
  {
   "cell_type": "code",
   "execution_count": 19,
   "id": "d6c43021",
   "metadata": {},
   "outputs": [
    {
     "data": {
      "text/plain": [
       "['K', 'J']"
      ]
     },
     "execution_count": 19,
     "metadata": {},
     "output_type": "execute_result"
    }
   ],
   "source": [
    "nx.periphery(G)"
   ]
  },
  {
   "cell_type": "code",
   "execution_count": 20,
   "id": "4ab8fc0e",
   "metadata": {},
   "outputs": [
    {
     "data": {
      "text/plain": [
       "['F']"
      ]
     },
     "execution_count": 20,
     "metadata": {},
     "output_type": "execute_result"
    }
   ],
   "source": [
    "nx.center(G)"
   ]
  },
  {
   "cell_type": "markdown",
   "id": "0e809681",
   "metadata": {},
   "source": [
    "## Example: Karate Club"
   ]
  },
  {
   "cell_type": "code",
   "execution_count": 21,
   "id": "6b7c4d8b",
   "metadata": {},
   "outputs": [],
   "source": [
    "K = nx.karate_club_graph()\n",
    "K = nx.convert_node_labels_to_integers(K, first_label=1)"
   ]
  },
  {
   "cell_type": "code",
   "execution_count": 22,
   "id": "eeaac54e",
   "metadata": {},
   "outputs": [
    {
     "data": {
      "image/png": "[encoded data removed]",
      "text/plain": [
       "<Figure size 432x288 with 1 Axes>"
      ]
     },
     "metadata": {},
     "output_type": "display_data"
    }
   ],
   "source": [
    "nx.draw_networkx(K)"
   ]
  },
  {
   "cell_type": "code",
   "execution_count": 23,
   "id": "0c953ef6",
   "metadata": {},
   "outputs": [
    {
     "data": {
      "text/plain": [
       "(5, 3, 2.408199643493761)"
      ]
     },
     "execution_count": 23,
     "metadata": {},
     "output_type": "execute_result"
    }
   ],
   "source": [
    "nx.diameter(K), nx.radius(K), nx.average_shortest_path_length(K)"
   ]
  },
  {
   "cell_type": "code",
   "execution_count": 24,
   "id": "ea03facd",
   "metadata": {},
   "outputs": [
    {
     "data": {
      "text/plain": [
       "[1, 2, 3, 4, 9, 14, 20, 32]"
      ]
     },
     "execution_count": 24,
     "metadata": {},
     "output_type": "execute_result"
    }
   ],
   "source": [
    "nx.center(K)"
   ]
  },
  {
   "cell_type": "code",
   "execution_count": 25,
   "id": "9ef26bf0",
   "metadata": {},
   "outputs": [
    {
     "data": {
      "text/plain": [
       "[15, 16, 17, 19, 21, 23, 24, 27, 30]"
      ]
     },
     "execution_count": 25,
     "metadata": {},
     "output_type": "execute_result"
    }
   ],
   "source": [
    "nx.periphery(K)"
   ]
  },
  {
   "cell_type": "markdown",
   "id": "00cf61c3",
   "metadata": {},
   "source": [
    "# Connected Components"
   ]
  },
  {
   "cell_type": "markdown",
   "id": "d9e0e1bf",
   "metadata": {},
   "source": [
    "* Connected Graph = Any two nodes in the graph are connected by a path\n",
    "* Connected component = Set of nodes such that: every node has a path to every other node in the set, and no external node to the set has a path to the set\n",
    "* If the graph/component is directed:\n",
    "  * Strongly connected: for every pair of nodes, there is a directed path from each one of them to the other\n",
    "  * Weakly connected: if replacing all directed edges with undirected edges yields to an connected component"
   ]
  },
  {
   "cell_type": "code",
   "execution_count": 26,
   "id": "983d792a",
   "metadata": {},
   "outputs": [
    {
     "data": {
      "text/plain": [
       "True"
      ]
     },
     "execution_count": 26,
     "metadata": {},
     "output_type": "execute_result"
    }
   ],
   "source": [
    "nx.is_connected(G) # is_strongly_connected or is_weakly_connected if the graph is directed"
   ]
  },
  {
   "cell_type": "code",
   "execution_count": 27,
   "id": "80ac00c1",
   "metadata": {},
   "outputs": [
    {
     "data": {
      "text/plain": [
       "1"
      ]
     },
     "execution_count": 27,
     "metadata": {},
     "output_type": "execute_result"
    }
   ],
   "source": [
    "nx.number_connected_components(G)"
   ]
  },
  {
   "cell_type": "code",
   "execution_count": 28,
   "id": "467af78c",
   "metadata": {},
   "outputs": [
    {
     "data": {
      "text/plain": [
       "[{'A', 'B', 'C', 'D', 'E', 'F', 'G', 'H', 'I', 'J', 'K'}]"
      ]
     },
     "execution_count": 28,
     "metadata": {},
     "output_type": "execute_result"
    }
   ],
   "source": [
    "sorted(nx.connected_components(G))"
   ]
  },
  {
   "cell_type": "code",
   "execution_count": 29,
   "id": "a5331fec",
   "metadata": {},
   "outputs": [
    {
     "data": {
      "text/plain": [
       "{'A', 'B', 'C', 'D', 'E', 'F', 'G', 'H', 'I', 'J', 'K'}"
      ]
     },
     "execution_count": 29,
     "metadata": {},
     "output_type": "execute_result"
    }
   ],
   "source": [
    " nx.node_connected_component(G, 'G')"
   ]
  },
  {
   "cell_type": "markdown",
   "id": "bf2890db",
   "metadata": {},
   "source": [
    "# Robustness"
   ]
  },
  {
   "cell_type": "markdown",
   "id": "3ccba2b6",
   "metadata": {},
   "source": [
    "Ability of a network to maintain its general structural properties when it faces failures or attacks (removal of nodes or edges) (e.g. server in a data center, road in a map, power line failure, airport closure..)\n",
    "\n",
    "Keeping connectivity = Good robustness"
   ]
  },
  {
   "cell_type": "code",
   "execution_count": 37,
   "id": "042efaa2",
   "metadata": {},
   "outputs": [
    {
     "data": {
      "image/png": "[encoded data removed]",
      "text/plain": [
       "<Figure size 432x288 with 1 Axes>"
      ]
     },
     "metadata": {},
     "output_type": "display_data"
    }
   ],
   "source": [
    "nx.draw_networkx(G)"
   ]
  },
  {
   "cell_type": "code",
   "execution_count": 30,
   "id": "4da1f03e",
   "metadata": {},
   "outputs": [
    {
     "data": {
      "text/plain": [
       "1"
      ]
     },
     "execution_count": 30,
     "metadata": {},
     "output_type": "execute_result"
    }
   ],
   "source": [
    "nx.node_connectivity(G) # minimum number of nodes to be removed for the network to become disconnected"
   ]
  },
  {
   "cell_type": "code",
   "execution_count": 32,
   "id": "dee8ebcc",
   "metadata": {},
   "outputs": [
    {
     "data": {
      "text/plain": [
       "{'C'}"
      ]
     },
     "execution_count": 32,
     "metadata": {},
     "output_type": "execute_result"
    }
   ],
   "source": [
    "nx.minimum_node_cut(G) "
   ]
  },
  {
   "cell_type": "code",
   "execution_count": 33,
   "id": "3265f8c5",
   "metadata": {},
   "outputs": [
    {
     "data": {
      "text/plain": [
       "1"
      ]
     },
     "execution_count": 33,
     "metadata": {},
     "output_type": "execute_result"
    }
   ],
   "source": [
    "nx.edge_connectivity(G) # minimum number of edges to be removed for the network to become disconnected"
   ]
  },
  {
   "cell_type": "code",
   "execution_count": 35,
   "id": "0566a6db",
   "metadata": {},
   "outputs": [
    {
     "data": {
      "text/plain": [
       "{('G', 'F')}"
      ]
     },
     "execution_count": 35,
     "metadata": {},
     "output_type": "execute_result"
    }
   ],
   "source": [
    "nx.minimum_edge_cut(G)"
   ]
  },
  {
   "cell_type": "markdown",
   "id": "efb75d2e",
   "metadata": {},
   "source": [
    "## Disrupting connection in network"
   ]
  },
  {
   "cell_type": "code",
   "execution_count": 41,
   "id": "790b9968",
   "metadata": {},
   "outputs": [
    {
     "data": {
      "text/plain": [
       "[['G', 'F', 'C', 'A', 'K'],\n",
       " ['G', 'F', 'C', 'A', 'B', 'K'],\n",
       " ['G', 'F', 'C', 'B', 'A', 'K'],\n",
       " ['G', 'F', 'C', 'B', 'K'],\n",
       " ['G', 'F', 'E', 'C', 'A', 'K'],\n",
       " ['G', 'F', 'E', 'C', 'A', 'B', 'K'],\n",
       " ['G', 'F', 'E', 'C', 'B', 'A', 'K'],\n",
       " ['G', 'F', 'E', 'C', 'B', 'K']]"
      ]
     },
     "execution_count": 41,
     "metadata": {},
     "output_type": "execute_result"
    }
   ],
   "source": [
    "list(nx.all_simple_paths(G, 'G', 'K'))"
   ]
  },
  {
   "cell_type": "code",
   "execution_count": 44,
   "id": "57d41fc0",
   "metadata": {},
   "outputs": [
    {
     "data": {
      "text/plain": [
       "1"
      ]
     },
     "execution_count": 44,
     "metadata": {},
     "output_type": "execute_result"
    }
   ],
   "source": [
    "nx.node_connectivity(G, 'G', 'K')"
   ]
  },
  {
   "cell_type": "code",
   "execution_count": 45,
   "id": "3da246ec",
   "metadata": {},
   "outputs": [
    {
     "data": {
      "text/plain": [
       "{'C'}"
      ]
     },
     "execution_count": 45,
     "metadata": {},
     "output_type": "execute_result"
    }
   ],
   "source": [
    "nx.minimum_node_cut(G, 'G', 'K')"
   ]
  },
  {
   "cell_type": "code",
   "execution_count": 47,
   "id": "e17eae9a",
   "metadata": {},
   "outputs": [
    {
     "data": {
      "text/plain": [
       "{'A', 'B'}"
      ]
     },
     "execution_count": 47,
     "metadata": {},
     "output_type": "execute_result"
    }
   ],
   "source": [
    "nx.minimum_node_cut(G, 'C', 'K')"
   ]
  },
  {
   "cell_type": "code",
   "execution_count": 49,
   "id": "8f342e23",
   "metadata": {},
   "outputs": [
    {
     "data": {
      "text/plain": [
       "{('A', 'K'), ('B', 'K')}"
      ]
     },
     "execution_count": 49,
     "metadata": {},
     "output_type": "execute_result"
    }
   ],
   "source": [
    "nx.minimum_edge_cut(G, 'C', 'K')"
   ]
  },
  {
   "cell_type": "markdown",
   "id": "cd09c07b",
   "metadata": {},
   "source": [
    "<div class=\"alert alert-info\">\n",
    "Graphs with large node and edge connectivity are more robust to the loss of nodes and edges (which, in many applications, is a desirable property to have).</div>"
   ]
  },
  {
   "cell_type": "code",
   "execution_count": null,
   "id": "96e1d529",
   "metadata": {},
   "outputs": [],
   "source": []
  }
 ],
 "metadata": {
  "kernelspec": {
   "display_name": "Python 3 (ipykernel)",
   "language": "python",
   "name": "python3"
  },
  "language_info": {
   "codemirror_mode": {
    "name": "ipython",
    "version": 3
   },
   "file_extension": ".py",
   "mimetype": "text/x-python",
   "name": "python",
   "nbconvert_exporter": "python",
   "pygments_lexer": "ipython3",
   "version": "3.9.12"
  }
 },
 "nbformat": 4,
 "nbformat_minor": 5
}
