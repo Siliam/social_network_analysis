{
 "cells": [
  {
   "cell_type": "code",
   "execution_count": 2,
   "id": "b000c032",
   "metadata": {},
   "outputs": [],
   "source": [
    "import networkx as nx\n",
    "import matplotlib.pyplot as plt\n",
    "from pyvis.network import Network\n",
    "from netgraph import Graph\n",
    "\n",
    "import numpy as np\n",
    "import pandas as pd"
   ]
  },
  {
   "cell_type": "markdown",
   "id": "1c3831b4",
   "metadata": {},
   "source": [
    "# Clustering Coefficients"
   ]
  },
  {
   "cell_type": "markdown",
   "id": "f5fe088c",
   "metadata": {},
   "source": [
    "**Triad closure:** Tendency for people sharing connectings in a social network to become connected\n",
    "\n",
    "Used for Edge prediction: edges that close triangles are likely to appear in a future time step mbut how about untimed or static networks?)"
   ]
  },
  {
   "cell_type": "markdown",
   "id": "8492041d",
   "metadata": {},
   "source": [
    "**Local clustering coefficient (of a node) / LLC:** Fraction of pairs of the node's friends that are friends with each other \n",
    "\n",
    "= # of pairs of C's friends who are friends / # of pairs of C's friends"
   ]
  },
  {
   "cell_type": "code",
   "execution_count": 4,
   "id": "e48345cc",
   "metadata": {},
   "outputs": [],
   "source": [
    "G = nx.Graph()\n",
    "\n",
    "G.add_edges_from([('A', 'K'), ('A', 'B'), ('A', 'C'), ('B', 'C'), ('B', 'K'), ('C', 'E'), ('C', 'F'), ('D', 'E'), ('E', 'F'), ('E', 'H'), ('F', 'G'), ('I', 'J')])"
   ]
  },
  {
   "cell_type": "code",
   "execution_count": 5,
   "id": "234b1019",
   "metadata": {},
   "outputs": [
    {
     "data": {
      "image/png": "[encoded data removed]",
      "text/plain": [
       "<Figure size 432x288 with 1 Axes>"
      ]
     },
     "metadata": {},
     "output_type": "display_data"
    }
   ],
   "source": [
    "nx.draw_networkx(G)"
   ]
  },
  {
   "cell_type": "markdown",
   "id": "29492168",
   "metadata": {},
   "source": [
    "Use `nx.clustering` to compute a node's local clustering coefficient"
   ]
  },
  {
   "cell_type": "code",
   "execution_count": 10,
   "id": "6d129aab",
   "metadata": {},
   "outputs": [
    {
     "data": {
      "text/plain": [
       "(0.3333333333333333, 0.16666666666666666, 0.6666666666666666, 0)"
      ]
     },
     "execution_count": 10,
     "metadata": {},
     "output_type": "execute_result"
    }
   ],
   "source": [
    "nx.clustering(G, 'F'), nx.clustering(G, 'E'), nx.clustering(G, 'A'), nx.clustering(G, 'I')"
   ]
  },
  {
   "cell_type": "markdown",
   "id": "cb29bfd7",
   "metadata": {},
   "source": [
    "Measuring clustering over a network:\n",
    "* Averaging the local clustering coefficient of each node\n",
    "* Counting the percentage of \"open triads\" in the network (3 nodes that have two edges among them)"
   ]
  },
  {
   "cell_type": "markdown",
   "id": "91b758cd",
   "metadata": {},
   "source": [
    "**Transitivity**: 3 * number of closed triads / number of open triads"
   ]
  },
  {
   "cell_type": "code",
   "execution_count": 11,
   "id": "41992f94",
   "metadata": {},
   "outputs": [
    {
     "data": {
      "text/plain": [
       "0.4090909090909091"
      ]
     },
     "execution_count": 11,
     "metadata": {},
     "output_type": "execute_result"
    }
   ],
   "source": [
    "nx.transitivity(G)"
   ]
  },
  {
   "cell_type": "markdown",
   "id": "9001a48b",
   "metadata": {},
   "source": [
    "<div class=\"alert alert-info\">\n",
    "Both Transitivity and Average Clustering Coefficient measure the tendency for edges to form triangles. Transitivity weighs nodes with large degress higher\n",
    "</div>"
   ]
  },
  {
   "cell_type": "code",
   "execution_count": null,
   "id": "be434b3f",
   "metadata": {},
   "outputs": [],
   "source": [
    "<img src='img/transitivity_vs_ac'"
   ]
  }
 ],
 "metadata": {
  "kernelspec": {
   "display_name": "Python 3 (ipykernel)",
   "language": "python",
   "name": "python3"
  },
  "language_info": {
   "codemirror_mode": {
    "name": "ipython",
    "version": 3
   },
   "file_extension": ".py",
   "mimetype": "text/x-python",
   "name": "python",
   "nbconvert_exporter": "python",
   "pygments_lexer": "ipython3",
   "version": "3.10.6"
  }
 },
 "nbformat": 4,
 "nbformat_minor": 5
}
